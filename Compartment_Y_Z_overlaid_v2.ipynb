{
 "cells": [
  {
   "cell_type": "code",
   "execution_count": 1,
   "metadata": {},
   "outputs": [
    {
     "name": "stdout",
     "output_type": "stream",
     "text": [
      "Velocity_PSM_Z_temp.xlsx\n",
      "Vel_max = 0.305159512947304\n",
      "Vel_min = -0.277256269940776\n",
      "Vel_max-Vel_min = 0.58241578288808\n"
     ]
    }
   ],
   "source": [
    "import numpy as np                                                                                                                 \n",
    "import math\n",
    "import pandas as pd \n",
    "import numpy as np \n",
    "import xlrd\n",
    "\n",
    "loc_y=('Velocity_PSM_Z_temp.xlsx')  \n",
    "print(loc_y)\n",
    "wb = xlrd.open_workbook(loc_y)\n",
    "\n",
    "sheet = wb.sheet_by_index(0)\n",
    "\n",
    "#for i in range(1,sheet.ncols): \n",
    "#\tprint(sheet.cell_value(0, i)) \n",
    "\n",
    "x = sheet.cell_value(0,sheet.ncols-1)\n",
    "vel_mesh = np.zeros((int(x.split('(')[1].split(')')[0].split('x')[0]),int(x.split('(')[1].split(')')[0].split('x')[1]),int(x.split('(')[1].split(')')[0].split('x')[2])))\n",
    "\n",
    "for i in range(1,sheet.ncols): \n",
    "    x = (sheet.cell_value(0, i)) \n",
    "    ag=x.split('(')[1].split(')')[0].split('x') \n",
    "    vel=float(sheet.cell_value(1, i)) \n",
    "    vel_mesh[int(ag[0])-1][int(ag[1])-1][int(ag[2])-1] = vel \n",
    "\n",
    "#creating zones:\n",
    "vel_max = vel_mesh.max()\n",
    "vel_min = vel_mesh.min()\n",
    "\n",
    "print('Vel_max = '+str(vel_max))\n",
    "print('Vel_min = '+str(vel_min))\n",
    "print('Vel_max-Vel_min = '+str(abs(vel_max-vel_min)))\n",
    "\n",
    "# zoning\n",
    "\n",
    "zone = []\n",
    "for i in range(len(vel_mesh.flatten())):\n",
    "    if vel_mesh.flatten()[i] == 0:\n",
    "        zone.append(0)\n",
    "    if vel_mesh.flatten()[i] > 0:\n",
    "        zone.append(1)\n",
    "    if vel_mesh.flatten()[i] < 0:\n",
    "        zone.append(-1)\n",
    "        \n",
    "zone_3d = np.asarray(zone).reshape((int(x.split('(')[1].split(')')[0].split('x')[0]),int(x.split('(')[1].split(')')[0].split('x')[1]),int(x.split('(')[1].split(')')[0].split('x')[2])))"
   ]
  },
  {
   "cell_type": "code",
   "execution_count": 2,
   "metadata": {},
   "outputs": [
    {
     "name": "stdout",
     "output_type": "stream",
     "text": [
      "NumParticles_temp1.xlsx\n"
     ]
    }
   ],
   "source": [
    "loc_filled=('NumParticles_temp1.xlsx')  \n",
    "print(loc_filled)\n",
    "wb = xlrd.open_workbook(loc_filled)\n",
    "\n",
    "sheet = wb.sheet_by_index(0)\n",
    "\n",
    "#for i in range(1,sheet.ncols): \n",
    "#\tprint(sheet.cell_value(0, i)) \n",
    "\n",
    "x = sheet.cell_value(0,sheet.ncols-1)\n",
    "num_mesh = np.zeros((int(x.split('(')[1].split(')')[0].split('x')[0]),int(x.split('(')[1].split(')')[0].split('x')[1]),int(x.split('(')[1].split(')')[0].split('x')[2])))\n",
    "filled_mesh = np.zeros((int(x.split('(')[1].split(')')[0].split('x')[0]),int(x.split('(')[1].split(')')[0].split('x')[1]),int(x.split('(')[1].split(')')[0].split('x')[2])))\n",
    "\n",
    "for i in range(1,sheet.ncols): \n",
    "    x = (sheet.cell_value(0, i)) \n",
    "    ag=x.split('(')[1].split(')')[0].split('x') \n",
    "    num=float(sheet.cell_value(1, i)) \n",
    "    num_mesh[int(ag[0])-1][int(ag[1])-1][int(ag[2])-1] = num\n",
    "    if num > 0:\n",
    "        filled_mesh[int(ag[0])-1][int(ag[1])-1][int(ag[2])-1] = 1\n",
    "    else:\n",
    "        filled_mesh[int(ag[0])-1][int(ag[1])-1][int(ag[2])-1] = 0"
   ]
  },
  {
   "cell_type": "code",
   "execution_count": 3,
   "metadata": {},
   "outputs": [],
   "source": [
    "zone_filled_3d = np.ones((int(x.split('(')[1].split(')')[0].split('x')[0]),int(x.split('(')[1].split(')')[0].split('x')[1]),int(x.split('(')[1].split(')')[0].split('x')[2])))\n",
    "zone_filled_3d = np.array(zone_filled_3d)*(-2)\n",
    "\n",
    "for x in range(10):\n",
    "    for i in range(20):\n",
    "        for j in range(20):\n",
    "            if filled_mesh[x][i][j] == 1:\n",
    "                zone_filled_3d[x][i][j] = zone_3d[x][i][j]"
   ]
  },
  {
   "cell_type": "code",
   "execution_count": 4,
   "metadata": {},
   "outputs": [],
   "source": [
    "# Corresponding functions:\n",
    "\n",
    "def createneighbordict(grid, specifiedvalue):\n",
    "    neighbordict = {}\n",
    "    boundary = np.where(grid == specifiedvalue)\n",
    "    x = boundary[0]\n",
    "    y = boundary[1]\n",
    "    for i in range(len(x)):\n",
    "        neighbordict[x[i],y[i]] = listofneighbors(x[i],y[i], grid, specifiedvalue)\n",
    "    return neighbordict\n",
    "\n",
    "#function to evaluate immediate neighbors if 1 for selected (x,y) pair:\n",
    "def listofneighbors(i,j,Grid, value):\n",
    "    neighborlist = []\n",
    "    neighborlist2 = []\n",
    "    #Overall 8 neighbors - (i,j) --> (i+1,j),(i-1,j),(i,j+1),(i,j-1),(i-1,j+1),(i+1,j+1),(i-1,j-1),(i+1,j-1)\n",
    "    if Grid[i,j] == value: # non-boundary point of grid (8 neighbors)\n",
    "        if i == len(Grid)-1:\n",
    "            if Grid[i,j-1] == value and j-1 >= 0:\n",
    "                neighborlist.append([i,j-1])\n",
    "            if Grid[i-1,j] == value:\n",
    "                neighborlist.append([i-1,j])\n",
    "            if Grid[i-1,j-1] == value and j-1>= 0:\n",
    "                neighborlist.append([i-1,j-1])\n",
    "            if j < len(Grid)-1:\n",
    "                if Grid[i-1,j+1] == value:\n",
    "                    neighborlist.append([i-1,j+1])\n",
    "                if Grid[i,j+1] == value:\n",
    "                    neighborlist.append([i,j+1])\n",
    "                \n",
    "        elif j == len(Grid)-1:\n",
    "            if i < len(Grid)-1:\n",
    "                if Grid[i+1,j] == value:\n",
    "                    neighborlist.append([i+1,j])\n",
    "                if Grid[i+1,j-1] == value:\n",
    "                    neighborlist.append([i+1,j-1])\n",
    "            if Grid[i,j-1] == value:\n",
    "                neighborlist.append([i,j-1])\n",
    "            if Grid[i-1,j] == value and i-1 >= 0:\n",
    "                neighborlist.append([i-1,j])\n",
    "            if Grid[i-1,j-1] == value and i-1>= 0:\n",
    "                neighborlist.append([i-1,j-1])\n",
    "                \n",
    "        else:\n",
    "            if Grid[i+1,j] == value:\n",
    "                neighborlist.append([i+1,j])\n",
    "            if Grid[i+1,j-1] == value and j-1 >=0:\n",
    "                neighborlist.append([i+1,j-1])\n",
    "            if Grid[i+1,j+1] == value:\n",
    "                neighborlist.append([i+1,j+1])\n",
    "            if Grid[i,j-1] == value and j-1 >= 0:\n",
    "                neighborlist.append([i,j-1])\n",
    "            if Grid[i,j+1] == value:\n",
    "                neighborlist.append([i,j+1])\n",
    "            if Grid[i-1,j] == value and i-1 >= 0:\n",
    "                neighborlist.append([i-1,j])\n",
    "            if Grid[i-1,j-1] == value and j-1 >= 0 and i-1 >= 0:\n",
    "                neighborlist.append([i-1,j-1])\n",
    "            if Grid[i-1,j+1] == value and i-1 >= 0:\n",
    "                neighborlist.append([i-1,j+1])\n",
    "        [neighborlist2.append(x) for x in neighborlist if x not in neighborlist2]  \n",
    "        \n",
    "        return(neighborlist2)\n",
    "    \n",
    "def connectedcells(Ndict,x, array):\n",
    "    #print('the initial array is:{}'.format(array))\n",
    "    if x not in array:\n",
    "        #print(x)\n",
    "        array.append(x)\n",
    "        \n",
    "    for j in Ndict[x]:\n",
    "        if tuple(j) not in array:\n",
    "            #print(j)\n",
    "            array.append(tuple(j))\n",
    "            #print('after appending:{}'.format(array))\n",
    "            array.append(listflat(listflat(connectedcells(Ndict, tuple(j), array))))\n",
    "    finalarray = []\n",
    "    [finalarray.append(x) for x in listflat(array) if x not in finalarray]\n",
    "    return(finalarray)\n",
    "\n",
    "#function to flatten a nested list:\n",
    "def listflat(b):\n",
    "    alist = []\n",
    "    for i in b:\n",
    "        if len(np.shape(i)) > 1:\n",
    "            for ind in i:\n",
    "                alist.append(ind)\n",
    "        else:\n",
    "            alist.append(i)\n",
    "    return(alist)\n",
    "\n",
    "# Create contiguous zones for specific value in selected grid:\n",
    "def printCC(value, grid):\n",
    "    CC = {}\n",
    "    k = 0\n",
    "    #Calling function createneighbordict:\n",
    "    Ndictvel = createneighbordict(grid,value)\n",
    "    if grid[(0,0)] == value:\n",
    "        CC[k] = connectedcells(Ndictvel,(0,0),[])  \n",
    "    for i in Ndictvel.keys():\n",
    "        if i not in list(listflat(CC.values())):\n",
    "                k = k + 1\n",
    "                CC[k] = connectedcells(Ndictvel, i, [])\n",
    "    return CC"
   ]
  },
  {
   "cell_type": "code",
   "execution_count": 5,
   "metadata": {},
   "outputs": [
    {
     "name": "stdout",
     "output_type": "stream",
     "text": [
      "1.0\n",
      "-1 0.0\n",
      "[[(3, 2), (4, 2), (5, 3), (4, 3), (3, 3)], [(8, 0), (8, 1)], [(8, 4), (9, 4), (10, 4), (11, 4), (12, 4), (13, 4), (14, 4), (15, 4), (16, 4), (17, 4), (18, 5), (18, 6), (19, 7), (18, 7), (19, 8), (17, 7), (17, 6), (17, 5), (16, 5), (16, 6), (16, 7), (17, 8), (17, 9), (18, 10), (17, 10), (16, 10), (16, 9), (16, 8), (15, 8), (15, 7), (15, 6), (15, 5), (14, 5), (14, 6), (14, 7), (14, 8), (15, 9), (15, 10), (14, 9), (13, 8), (13, 7), (13, 6), (13, 5), (12, 5), (12, 6), (11, 5), (10, 5), (17, 3), (16, 3), (16, 2), (15, 2), (15, 1), (14, 1), (14, 2), (15, 3), (14, 3), (13, 3), (13, 2), (13, 1), (13, 0), (12, 0), (12, 1), (12, 2), (12, 3), (11, 3), (11, 2), (9, 3)], [(10, 0)]]\n",
      "0 4.0\n",
      "[]\n",
      "1 4.0\n",
      "[[(4, 1), (5, 1), (6, 1), (7, 1), (8, 2), (9, 2), (10, 2), (11, 1), (11, 0), (10, 1), (9, 1), (9, 0), (10, 3), (8, 3), (7, 3), (7, 2), (6, 2), (6, 3), (5, 2), (7, 0), (6, 0)], [(18, 8), (19, 9), (18, 9), (19, 10), (18, 11), (19, 11)]]\n",
      "1.0\n",
      "-1 0.0\n",
      "[[(4, 3), (5, 3)], [(7, 0), (8, 1), (9, 1), (10, 2), (11, 2), (12, 2), (13, 2), (14, 2), (15, 2), (16, 2), (17, 3), (18, 4), (18, 5), (19, 6), (18, 6), (19, 7), (18, 7), (19, 8), (18, 8), (19, 9), (18, 9), (19, 10), (18, 10), (17, 10), (17, 9), (17, 8), (17, 7), (17, 6), (17, 5), (17, 4), (16, 4), (16, 3), (15, 3), (15, 4), (16, 5), (16, 6), (16, 7), (16, 8), (16, 9), (16, 10), (15, 9), (15, 8), (15, 7), (15, 6), (15, 5), (14, 5), (14, 4), (13, 4), (13, 3), (12, 3), (12, 4), (13, 5), (14, 6), (14, 7), (14, 8), (13, 7), (13, 6), (12, 6), (12, 5), (11, 5), (11, 4), (11, 3), (10, 4), (10, 5), (9, 4), (8, 4), (8, 3), (7, 4), (14, 1), (13, 1), (12, 0), (11, 0), (11, 1)]]\n",
      "0 2.0\n",
      "[]\n",
      "1 2.0\n",
      "[[(3, 2), (4, 2), (5, 2), (6, 2), (7, 2), (8, 2), (9, 2), (10, 1), (10, 0), (9, 0), (8, 0), (7, 1), (6, 1), (5, 1), (10, 3), (9, 3), (7, 3), (6, 3), (3, 3)], [(12, 1)], [(14, 3)]]\n",
      "1.0\n",
      "-1 0.0\n",
      "[[(6, 0), (6, 1)], [(7, 3), (8, 3), (9, 3), (10, 4), (11, 4), (12, 3), (13, 2), (14, 2), (15, 2), (16, 2), (17, 3), (18, 4), (18, 5), (18, 6), (19, 7), (18, 7), (19, 8), (18, 8), (19, 9), (18, 9), (19, 10), (17, 9), (17, 8), (17, 7), (17, 6), (17, 5), (17, 4), (16, 4), (16, 3), (15, 3), (15, 4), (16, 5), (16, 6), (16, 7), (16, 8), (16, 9), (15, 8), (15, 7), (15, 6), (15, 5), (14, 5), (14, 4), (14, 3), (13, 4), (13, 5), (14, 6), (14, 7), (14, 8), (13, 7), (13, 6), (12, 6), (12, 5), (11, 5), (11, 6), (10, 5), (9, 5), (9, 4), (8, 4), (7, 4), (15, 1), (11, 3), (11, 2), (10, 1), (11, 0), (12, 0), (10, 0), (8, 2)]]\n",
      "0 2.0\n",
      "[]\n",
      "1 2.0\n",
      "[[(3, 2), (4, 2), (5, 2), (6, 2), (7, 2), (8, 1), (9, 1), (10, 2), (11, 1), (12, 1), (13, 1), (14, 1), (12, 2), (13, 3), (12, 4), (10, 3), (9, 2), (9, 0), (8, 0), (7, 0), (7, 1), (6, 3), (5, 3), (4, 3), (3, 3), (5, 1), (4, 1)]]\n",
      "1.0\n",
      "-1 0.0\n",
      "[[(3, 2), (4, 3), (3, 3)], [(7, 3), (8, 4), (9, 4), (10, 4), (11, 4), (12, 4), (13, 4), (14, 4), (15, 4), (16, 4), (17, 4), (18, 4), (18, 5), (19, 6), (18, 6), (19, 7), (18, 7), (19, 8), (18, 8), (19, 9), (18, 9), (19, 10), (18, 10), (17, 10), (17, 9), (17, 8), (17, 7), (17, 6), (17, 5), (16, 5), (16, 6), (16, 7), (16, 8), (15, 8), (15, 7), (15, 6), (15, 5), (14, 5), (14, 6), (14, 7), (13, 6), (13, 5), (12, 5), (12, 6), (11, 6), (11, 5), (10, 5), (9, 5), (17, 3), (16, 3), (16, 2), (15, 2), (15, 3), (14, 3), (14, 2), (14, 1), (13, 1), (12, 0), (11, 0), (12, 2), (11, 3), (10, 3), (9, 3), (7, 4)], [(9, 0)]]\n",
      "0 3.0\n",
      "[]\n",
      "1 3.0\n",
      "[[(4, 1), (5, 1), (6, 1), (7, 1), (8, 1), (9, 1), (10, 1), (11, 1), (12, 1), (13, 2), (13, 3), (12, 3), (11, 2), (10, 2), (9, 2), (8, 2), (8, 3), (7, 2), (6, 2), (6, 3), (5, 3), (5, 2), (4, 2), (10, 0), (8, 0), (7, 0), (6, 0)]]\n",
      "1.0\n",
      "-1 0.0\n",
      "[[(3, 3), (4, 3)], [(7, 3), (8, 3), (9, 3), (10, 3), (11, 3), (12, 3), (13, 3), (14, 3), (15, 3), (16, 3), (17, 3), (18, 4), (18, 5), (19, 6), (18, 6), (19, 7), (18, 7), (19, 8), (18, 8), (19, 9), (18, 9), (19, 10), (18, 10), (17, 10), (17, 9), (17, 8), (17, 7), (17, 6), (17, 5), (17, 4), (16, 4), (16, 5), (16, 6), (16, 7), (16, 8), (15, 7), (15, 6), (15, 5), (15, 4), (14, 4), (14, 5), (14, 6), (14, 7), (13, 6), (13, 5), (13, 4), (12, 4), (12, 5), (12, 6), (11, 5), (11, 4), (10, 4), (10, 5), (9, 4), (16, 2), (15, 2), (14, 2), (13, 2), (13, 1), (12, 1), (12, 0), (11, 0), (11, 1), (12, 2), (11, 2), (7, 4)], [(8, 0)]]\n",
      "0 3.0\n",
      "[]\n",
      "1 3.0\n",
      "[[(3, 2), (4, 2), (5, 2), (6, 2), (7, 2), (8, 2), (9, 2), (10, 2), (10, 1), (10, 0), (9, 0), (9, 1), (8, 1), (7, 1), (7, 0), (6, 0), (6, 1), (5, 1), (4, 1), (6, 3), (5, 3)], [(8, 4)], [(14, 1), (15, 1)], [(16, 11), (17, 11), (18, 11), (19, 11), (19, 12)]]\n",
      "1.0\n",
      "-1 0.0\n",
      "[[(3, 3), (4, 3), (5, 3), (4, 2)], [(7, 3), (8, 4), (7, 4)], [(9, 0), (10, 0), (11, 0), (12, 0), (13, 0), (14, 1), (15, 1), (16, 2), (17, 3), (18, 4), (18, 5), (18, 6), (19, 7), (18, 7), (17, 7), (17, 6), (17, 5), (17, 4), (16, 4), (16, 3), (15, 3), (15, 2), (14, 2), (14, 3), (15, 4), (16, 5), (16, 6), (16, 7), (17, 8), (18, 9), (18, 10), (17, 9), (15, 7), (15, 6), (15, 5), (14, 5), (14, 4), (13, 4), (13, 3), (13, 2), (12, 2), (12, 1), (11, 2), (11, 3), (12, 4), (13, 5), (14, 6), (13, 6), (12, 6), (12, 5), (11, 5), (10, 5), (10, 4), (9, 1), (9, 2)]]\n",
      "0 3.0\n",
      "[]\n",
      "1 3.0\n",
      "[[(3, 2)], [(5, 1), (6, 1), (7, 1), (8, 1), (8, 0), (7, 0), (8, 2), (9, 3), (10, 3), (11, 4), (12, 3), (10, 2), (11, 1), (10, 1), (9, 4), (8, 3), (7, 2), (6, 2), (6, 3), (5, 2)], [(13, 1)], [(17, 11), (18, 11), (19, 11), (19, 12)]]\n",
      "1.0\n",
      "-1 0.0\n",
      "[[(5, 3)], [(7, 4)], [(8, 0), (9, 1)], [(9, 4)], [(11, 2), (12, 3), (13, 3), (14, 3), (15, 3), (16, 3), (17, 3), (17, 4), (18, 5), (18, 6), (19, 7), (17, 6), (17, 5), (16, 5), (16, 4), (15, 4), (15, 5), (16, 6), (17, 7), (16, 7), (15, 6), (14, 6), (14, 5), (14, 4), (13, 4), (13, 5), (12, 5), (12, 4), (11, 5), (16, 2), (15, 2), (15, 1), (14, 1), (14, 2), (13, 2), (13, 1), (13, 0)]]\n",
      "0 5.0\n",
      "[]\n",
      "1 5.0\n",
      "[[(3, 2), (4, 2), (5, 2), (6, 2), (7, 2), (8, 2), (9, 2), (10, 2), (11, 1), (12, 1), (12, 0), (11, 0), (10, 0), (10, 1), (9, 0), (8, 1), (7, 1), (7, 0), (6, 0), (6, 1), (5, 1), (12, 2), (11, 3), (11, 4), (10, 4), (10, 3), (9, 3), (8, 3), (8, 4), (7, 3), (6, 3), (4, 3), (3, 3)], [(15, 10), (16, 10), (17, 10), (18, 10), (19, 10), (18, 11), (19, 11), (18, 12), (19, 12), (17, 11), (16, 11), (15, 11)]]\n",
      "1.0\n",
      "-1 0.0\n",
      "[[(3, 3), (4, 3)], [(6, 3), (7, 3), (8, 4), (9, 4), (10, 4), (11, 4), (12, 5), (13, 5), (14, 5), (15, 5), (16, 5), (17, 5), (17, 4), (17, 3), (16, 2), (15, 2), (15, 3), (16, 4), (15, 4), (14, 4), (14, 3), (14, 2), (14, 1), (13, 1), (13, 2), (13, 3), (12, 1), (12, 0), (11, 1), (16, 6), (15, 6), (9, 3)]]\n",
      "0 2.0\n",
      "[]\n",
      "1 2.0\n",
      "[[(3, 2), (4, 2), (5, 2), (6, 2), (7, 2), (8, 2), (9, 2), (10, 2), (11, 2), (12, 2), (12, 3), (13, 4), (12, 4), (11, 3), (10, 3), (10, 1), (11, 0), (10, 0), (9, 0), (9, 1), (8, 1), (8, 0), (7, 0), (7, 1), (6, 1), (6, 0), (5, 1), (4, 1), (8, 3), (5, 3)], [(14, 10), (15, 10), (16, 10), (17, 10), (18, 10), (19, 10), (18, 9), (18, 11), (19, 11), (19, 12), (17, 11), (16, 11), (16, 9)], [(16, 3)]]\n",
      "1.0\n",
      "-1 0.0\n",
      "[[(3, 2)], [(7, 3), (8, 2), (8, 1), (9, 0), (10, 0), (11, 1), (12, 0), (13, 0), (14, 1), (15, 2), (16, 2), (17, 3), (17, 4), (17, 5), (16, 5), (15, 5), (15, 4), (14, 3), (14, 2), (13, 2), (13, 1), (14, 5), (13, 5), (12, 4), (11, 3), (10, 4), (8, 0), (8, 4), (7, 4)]]\n",
      "0 2.0\n",
      "[]\n",
      "1 2.0\n",
      "[[(4, 1), (5, 1), (6, 1), (7, 1), (7, 0), (6, 0), (7, 2), (8, 3), (9, 3), (10, 3), (11, 2), (12, 2), (13, 3), (14, 4), (15, 3), (16, 3), (16, 4), (13, 4), (12, 3), (11, 4), (12, 1), (11, 0), (10, 1), (10, 2), (9, 2), (9, 1), (9, 4), (6, 2), (6, 3), (5, 3), (5, 2), (4, 2), (4, 3)], [(14, 9), (15, 9), (16, 9), (17, 9), (18, 9), (19, 9), (18, 10), (19, 10), (18, 11), (19, 11), (18, 12), (19, 12), (17, 11), (17, 10), (16, 10), (16, 11), (15, 10), (14, 10)], [(15, 1)]]\n",
      "1.0\n",
      "-1 0.0\n",
      "[[(6, 3), (7, 3), (8, 3), (9, 3), (10, 4), (11, 4), (12, 4), (13, 4), (14, 4), (15, 3), (16, 3), (17, 4), (18, 5), (17, 5), (16, 5), (16, 4), (15, 5), (14, 5), (13, 5), (12, 5), (16, 2), (15, 2), (15, 1), (14, 1), (14, 2), (14, 3), (13, 3), (13, 2), (13, 1), (13, 0), (12, 0), (12, 1), (12, 2), (12, 3), (11, 3), (11, 1), (11, 0), (10, 0), (10, 1)], [(13, 8), (14, 8), (15, 8), (14, 9)]]\n",
      "0 2.0\n",
      "[]\n",
      "1 2.0\n",
      "[[(3, 2), (4, 2), (5, 2), (6, 2), (7, 2), (8, 2), (9, 2), (10, 2), (11, 2), (10, 3), (9, 1), (9, 0), (8, 0), (8, 1), (7, 1), (7, 0), (6, 0), (6, 1), (5, 1), (4, 1), (5, 3)], [(15, 4)], [(15, 9), (16, 9), (17, 9), (18, 9), (19, 9), (19, 8), (19, 7), (18, 7), (18, 8), (17, 8), (16, 8), (18, 10), (19, 10), (18, 11), (19, 11), (17, 11), (17, 10), (16, 10), (16, 11), (15, 10)], [(17, 3)]]\n"
     ]
    },
    {
     "name": "stdout",
     "output_type": "stream",
     "text": [
      "7.0 [6. 5. 3. 4. 7. 7. 7. 5. 5. 6.]\n"
     ]
    }
   ],
   "source": [
    "# Create contiguous zones zone_cont_z based on zone_mesh_z\n",
    "\n",
    "zone_cont_z= np.zeros((10,20,20))\n",
    "newvalz = np.zeros(10)\n",
    "\n",
    "for m in range(10):\n",
    "    print(np.amax(zone_filled_3d[m]))\n",
    "    newvalz[m] = 0\n",
    "    for i in [-1,0,1]:\n",
    "        print(i,newvalz[m])\n",
    "        CCdict = list(printCC(i, zone_filled_3d[m]).values())\n",
    "        print(CCdict)\n",
    "        if len(CCdict) == 0:\n",
    "            continue\n",
    "        if len(CCdict) >= 1:\n",
    "            for j in range(len(CCdict)):\n",
    "                newvalz[m] = newvalz[m] + 1\n",
    "                A = CCdict[j]\n",
    "                B = zip(*A)\n",
    "                Blist = list(B)\n",
    "                x = Blist[0]\n",
    "                y = Blist[1]\n",
    "                for k in range(len(x)):\n",
    "                    zone_cont_z[m][x[k]][y[k]] = newvalz[m]\n",
    "        else:\n",
    "            newvalz[m] = newvalz[m] + 1\n",
    "        \n",
    "print(np.amax(zone_cont_z), newvalz)"
   ]
  },
  {
   "cell_type": "code",
   "execution_count": 6,
   "metadata": {},
   "outputs": [
    {
     "name": "stdout",
     "output_type": "stream",
     "text": [
      "Contour plot of zones_velocity of Z:\n"
     ]
    },
    {
     "data": {
      "image/png": "[encoded data removed]",
      "text/plain": [
       "<Figure size 432x288 with 2 Axes>"
      ]
     },
     "metadata": {
      "needs_background": "light"
     },
     "output_type": "display_data"
    }
   ],
   "source": [
    "import matplotlib as mpl\n",
    "import matplotlib.colors as colors\n",
    "norm = mpl.colors.Normalize(vmin=-1, vmax=1)\n",
    "\n",
    "# Figures at X location identified by zloc\n",
    "zloc = 4\n",
    "#Contour plot of zones_velocity of Y:\n",
    "X = np.arange(0,21)\n",
    "Y = np.arange(0,21)\n",
    "Z = zone_cont_z[zloc]\n",
    "import matplotlib.pyplot as plt \n",
    "print('Contour plot of zones_velocity of Z:')\n",
    "\n",
    "plt.figure()\n",
    "\n",
    "pcm = plt.pcolormesh(X, Y, Z,cmap='RdYlGn', shading='auto', vmin=np.min(Z), vmax = np.max(Z))\n",
    "#pcm = plt.pcolormesh(X, Y, Z,cmap='Spectral', shading='auto', vmin=np.min(Z), vmax = np.max(Z))\n",
    "plt.gca().invert_yaxis()\n",
    "plt.xlabel('X axis')\n",
    "plt.ylabel('Y axis')\n",
    "plt.title('Compartment map for V_z at x ='+str(zloc))\n",
    "plt.colorbar()\n",
    "plt.show()"
   ]
  },
  {
   "cell_type": "code",
   "execution_count": 7,
   "metadata": {},
   "outputs": [
    {
     "name": "stdout",
     "output_type": "stream",
     "text": [
      "Velocity_PSM_Y_temp.xlsx\n",
      "Vel_max = 0.305159512947304\n",
      "Vel_min = -0.277256269940776\n",
      "Vel_max-Vel_min = 0.58241578288808\n"
     ]
    }
   ],
   "source": [
    "import numpy as np                                                                                                                 \n",
    "import math\n",
    "import pandas as pd \n",
    "import numpy as np \n",
    "import xlrd\n",
    "\n",
    "loc_y=('Velocity_PSM_Y_temp.xlsx')  \n",
    "print(loc_y)\n",
    "wb = xlrd.open_workbook(loc_y)\n",
    "\n",
    "sheet = wb.sheet_by_index(0)\n",
    "\n",
    "#for i in range(1,sheet.ncols): \n",
    "#\tprint(sheet.cell_value(0, i)) \n",
    "\n",
    "x = sheet.cell_value(0,sheet.ncols-1)\n",
    "vel_meshy = np.zeros((int(x.split('(')[1].split(')')[0].split('x')[0]),int(x.split('(')[1].split(')')[0].split('x')[1]),int(x.split('(')[1].split(')')[0].split('x')[2])))\n",
    "\n",
    "for i in range(1,sheet.ncols): \n",
    "    x = (sheet.cell_value(0, i)) \n",
    "    ag=x.split('(')[1].split(')')[0].split('x') \n",
    "    vel=float(sheet.cell_value(1, i)) \n",
    "    vel_meshy[int(ag[0])-1][int(ag[1])-1][int(ag[2])-1] = vel \n",
    "\n",
    "#creating zones:\n",
    "vel_max = vel_mesh.max()\n",
    "vel_min = vel_mesh.min()\n",
    "\n",
    "print('Vel_max = '+str(vel_max))\n",
    "print('Vel_min = '+str(vel_min))\n",
    "print('Vel_max-Vel_min = '+str(abs(vel_max-vel_min)))\n",
    "# zoning\n",
    "\n",
    "zone = []\n",
    "for i in range(len(vel_mesh.flatten())):\n",
    "    if vel_meshy.flatten()[i] == 0:\n",
    "        zone.append(0)\n",
    "    if vel_meshy.flatten()[i] > 0:\n",
    "        zone.append(1)\n",
    "    if vel_meshy.flatten()[i] < 0:\n",
    "        zone.append(-1)\n",
    "        \n",
    "zone_3dy = np.asarray(zone).reshape((int(x.split('(')[1].split(')')[0].split('x')[0]),int(x.split('(')[1].split(')')[0].split('x')[1]),int(x.split('(')[1].split(')')[0].split('x')[2])))"
   ]
  },
  {
   "cell_type": "code",
   "execution_count": 8,
   "metadata": {},
   "outputs": [],
   "source": [
    "zone_filled_3dy = np.ones((int(x.split('(')[1].split(')')[0].split('x')[0]),int(x.split('(')[1].split(')')[0].split('x')[1]),int(x.split('(')[1].split(')')[0].split('x')[2])))\n",
    "zone_filled_3dy = np.array(zone_filled_3dy)*(-2)\n",
    "\n",
    "for x in range(10):\n",
    "    for i in range(20):\n",
    "        for j in range(20):\n",
    "            if filled_mesh[x][i][j] == 1:\n",
    "                zone_filled_3dy[x][i][j] = zone_3dy[x][i][j]"
   ]
  },
  {
   "cell_type": "code",
   "execution_count": 9,
   "metadata": {},
   "outputs": [
    {
     "name": "stdout",
     "output_type": "stream",
     "text": [
      "-1 1\n",
      "[[(4, 1), (5, 1), (6, 1), (7, 1), (8, 1), (9, 1), (10, 1), (11, 1), (12, 1), (13, 1), (14, 1), (15, 2), (16, 2), (17, 3), (17, 4), (18, 5), (18, 6), (19, 7), (18, 7), (18, 8), (19, 9), (18, 9), (19, 10), (18, 10), (19, 11), (18, 11), (17, 10), (17, 9), (17, 8), (17, 7), (17, 6), (17, 5), (16, 5), (16, 4), (16, 3), (15, 3), (15, 4), (15, 5), (16, 6), (15, 6), (15, 7), (16, 8), (16, 9), (16, 10), (15, 10), (15, 9), (15, 8), (14, 8), (14, 7), (14, 6), (14, 5), (14, 4), (14, 3), (14, 2), (13, 2), (13, 3), (13, 4), (13, 5), (13, 6), (13, 7), (13, 8), (14, 9), (12, 6), (12, 5), (12, 4), (12, 3), (12, 2), (11, 2), (11, 3), (11, 4), (11, 5), (10, 5), (10, 4), (10, 3), (10, 2), (9, 2), (9, 3), (9, 4), (8, 4), (8, 3), (8, 2), (7, 2), (7, 3), (6, 3), (6, 2), (5, 2), (4, 2), (13, 0), (12, 0), (11, 0), (10, 0), (9, 0), (8, 0), (7, 0), (6, 0)]]\n",
      "0 0\n",
      "[]\n",
      "1 4\n",
      "[[(3, 2), (4, 3), (5, 3), (3, 3)], [(15, 1)], [(16, 7)], [(19, 8)]]\n",
      "-1 1\n",
      "[[(3, 2), (4, 2), (5, 2), (6, 2), (7, 2), (8, 2), (9, 2), (10, 2), (11, 2), (12, 2), (13, 2), (14, 2), (15, 2), (16, 2), (17, 3), (18, 4), (18, 5), (19, 6), (18, 6), (19, 7), (18, 7), (19, 8), (18, 8), (18, 9), (19, 10), (18, 10), (17, 10), (17, 9), (17, 8), (17, 7), (17, 6), (17, 5), (17, 4), (16, 4), (16, 3), (15, 3), (15, 4), (16, 5), (16, 6), (16, 7), (16, 8), (16, 9), (16, 10), (15, 9), (15, 8), (15, 7), (15, 6), (15, 5), (14, 5), (14, 4), (14, 3), (13, 3), (13, 4), (13, 5), (14, 6), (14, 7), (14, 8), (13, 7), (13, 6), (12, 6), (12, 5), (12, 4), (12, 3), (11, 3), (11, 4), (11, 5), (10, 5), (10, 4), (10, 3), (9, 3), (9, 4), (8, 4), (8, 3), (7, 3), (7, 4), (6, 3), (14, 1), (13, 1), (12, 1), (12, 0), (11, 0), (11, 1), (10, 1), (10, 0), (9, 0), (9, 1), (8, 1), (8, 0), (7, 1), (5, 1), (4, 3), (3, 3)]]\n",
      "0 0\n",
      "[]\n",
      "1 3\n",
      "[[(5, 3)], [(6, 1), (7, 0)], [(19, 9)]]\n",
      "-1 1\n",
      "[[(3, 2), (4, 2), (5, 2), (6, 2), (7, 2), (8, 2), (9, 2), (10, 2), (11, 2), (12, 2), (13, 1), (14, 1), (15, 1), (16, 2), (17, 3), (18, 4), (18, 5), (18, 6), (19, 7), (18, 7), (19, 8), (18, 8), (19, 9), (18, 9), (17, 9), (17, 8), (17, 7), (17, 6), (17, 5), (17, 4), (16, 4), (16, 3), (15, 3), (15, 2), (14, 2), (14, 3), (15, 4), (16, 5), (16, 6), (16, 7), (16, 8), (16, 9), (15, 8), (15, 7), (15, 6), (15, 5), (14, 5), (14, 4), (13, 4), (13, 3), (12, 3), (12, 4), (13, 5), (14, 6), (14, 7), (14, 8), (13, 7), (13, 6), (12, 6), (12, 5), (11, 5), (11, 4), (11, 3), (10, 3), (10, 4), (10, 5), (11, 6), (9, 5), (9, 4), (9, 3), (8, 3), (8, 4), (7, 4), (7, 3), (6, 3), (5, 3), (4, 3), (3, 3), (12, 1), (12, 0), (11, 0), (11, 1), (10, 1), (10, 0), (9, 0), (9, 1), (8, 1), (8, 0), (7, 0), (7, 1), (6, 1), (5, 1), (4, 1)]]\n",
      "0 0\n",
      "[]\n",
      "1 3\n",
      "[[(6, 0)], [(13, 2)], [(19, 10)]]\n",
      "-1 1\n",
      "[[(3, 2), (4, 2), (5, 2), (6, 2), (7, 2), (8, 2), (9, 2), (10, 2), (11, 2), (12, 2), (13, 2), (14, 2), (15, 2), (16, 2), (17, 3), (18, 4), (18, 5), (19, 6), (18, 6), (19, 7), (18, 7), (19, 8), (18, 8), (19, 9), (18, 9), (19, 10), (18, 10), (17, 10), (17, 8), (17, 7), (17, 6), (17, 5), (17, 4), (16, 4), (16, 3), (15, 3), (15, 4), (16, 5), (16, 6), (16, 7), (16, 8), (15, 8), (15, 7), (15, 6), (15, 5), (14, 5), (14, 4), (14, 3), (13, 3), (13, 4), (13, 5), (14, 6), (14, 7), (13, 6), (12, 6), (12, 5), (12, 4), (12, 3), (11, 3), (11, 4), (11, 5), (11, 6), (10, 5), (10, 4), (10, 3), (9, 3), (9, 4), (9, 5), (8, 4), (8, 3), (7, 3), (7, 4), (14, 1), (13, 1), (12, 1), (12, 0), (11, 0), (11, 1), (10, 1), (10, 0), (9, 0), (9, 1), (8, 1), (8, 0), (7, 0), (7, 1), (6, 1), (6, 0), (5, 1), (4, 1), (5, 3), (4, 3), (3, 3)]]\n",
      "0 0\n",
      "[]\n",
      "1 2\n",
      "[[(6, 3)], [(17, 9)]]\n",
      "-1 2\n",
      "[[(3, 3)], [(4, 1), (5, 1), (6, 1), (7, 1), (8, 1), (9, 1), (10, 1), (11, 1), (12, 1), (13, 1), (14, 1), (15, 2), (16, 2), (17, 3), (18, 4), (18, 5), (19, 6), (18, 6), (19, 7), (18, 7), (19, 8), (18, 8), (19, 9), (18, 9), (19, 10), (18, 10), (18, 11), (19, 12), (17, 11), (17, 10), (17, 9), (17, 8), (17, 7), (17, 6), (17, 5), (17, 4), (16, 4), (16, 3), (15, 3), (15, 4), (16, 5), (16, 6), (16, 7), (16, 8), (15, 7), (15, 6), (15, 5), (14, 5), (14, 4), (14, 3), (14, 2), (13, 2), (13, 3), (13, 4), (13, 5), (14, 6), (14, 7), (13, 6), (12, 6), (12, 5), (12, 4), (12, 3), (12, 2), (11, 2), (11, 3), (11, 4), (11, 5), (10, 5), (10, 4), (10, 3), (10, 2), (9, 2), (9, 3), (9, 4), (8, 4), (8, 3), (8, 2), (7, 2), (7, 3), (7, 4), (6, 3), (6, 2), (5, 2), (5, 3), (12, 0), (11, 0), (10, 0), (9, 0), (7, 0), (6, 0)]]\n",
      "0 0\n",
      "[]\n",
      "1 5\n",
      "[[(3, 2), (4, 2), (4, 3)], [(8, 0)], [(15, 1)], [(16, 11)], [(19, 11)]]\n",
      "-1 1\n",
      "[[(4, 2), (5, 2), (6, 2), (7, 2), (8, 2), (9, 2), (10, 2), (11, 2), (12, 2), (13, 2), (14, 2), (15, 2), (16, 2), (17, 3), (18, 4), (18, 5), (18, 6), (19, 7), (18, 7), (17, 7), (17, 6), (17, 5), (17, 4), (16, 4), (16, 3), (15, 3), (15, 4), (16, 5), (16, 6), (16, 7), (17, 8), (18, 9), (18, 10), (19, 11), (17, 9), (17, 11), (15, 7), (15, 6), (15, 5), (14, 5), (14, 4), (14, 3), (13, 3), (13, 4), (13, 5), (14, 6), (13, 6), (12, 6), (12, 5), (12, 4), (12, 3), (11, 3), (11, 4), (11, 5), (10, 5), (10, 4), (10, 3), (9, 3), (9, 4), (8, 4), (8, 3), (7, 3), (7, 4), (6, 3), (5, 3), (4, 3), (15, 1), (14, 1), (13, 1), (13, 0), (12, 0), (12, 1), (11, 1), (11, 0), (10, 0), (10, 1), (9, 1), (9, 0), (8, 0), (8, 1), (7, 1), (7, 0), (6, 1), (5, 1)]]\n",
      "0 0\n",
      "[]\n",
      "1 2\n",
      "[[(3, 2), (3, 3)], [(18, 11), (19, 12)]]\n",
      "-1 2\n",
      "[[(3, 2), (4, 2), (5, 2), (6, 2), (7, 2), (8, 2), (9, 2), (10, 2), (11, 2), (12, 2), (13, 2), (14, 2), (15, 2), (16, 2), (17, 3), (17, 4), (18, 5), (18, 6), (19, 7), (17, 5), (16, 5), (16, 4), (16, 3), (15, 3), (15, 4), (15, 5), (16, 6), (17, 7), (15, 6), (14, 6), (14, 5), (14, 4), (14, 3), (13, 3), (13, 4), (13, 5), (12, 5), (12, 4), (12, 3), (11, 3), (11, 4), (11, 5), (10, 4), (10, 3), (9, 3), (9, 4), (8, 4), (8, 3), (7, 3), (7, 4), (6, 3), (5, 3), (4, 3), (3, 3), (15, 1), (14, 1), (13, 1), (12, 1), (11, 1), (11, 0), (10, 0), (10, 1), (9, 1), (9, 0), (8, 0), (8, 1), (7, 1), (7, 0), (6, 0), (6, 1), (5, 1)], [(15, 10), (16, 10), (17, 10), (18, 10), (19, 10), (18, 11), (19, 11), (18, 12), (19, 12), (17, 11), (16, 11), (15, 11)]]\n",
      "0 0\n",
      "[]\n",
      "1 2\n",
      "[[(12, 0), (13, 0)], [(16, 7), (17, 6)]]\n",
      "-1 2\n",
      "[[(3, 2), (4, 2), (5, 2), (6, 2), (7, 2), (8, 2), (9, 2), (10, 2), (11, 2), (12, 2), (13, 2), (14, 2), (15, 2), (16, 2), (17, 3), (17, 4), (17, 5), (16, 3), (15, 3), (14, 3), (14, 4), (15, 5), (15, 6), (14, 5), (13, 5), (13, 4), (13, 3), (12, 3), (12, 4), (12, 5), (11, 4), (11, 3), (10, 3), (10, 4), (9, 4), (9, 3), (8, 3), (8, 4), (7, 3), (6, 3), (5, 3), (14, 1), (13, 1), (12, 1), (12, 0), (11, 0), (11, 1), (10, 1), (10, 0), (9, 0), (9, 1), (8, 1), (7, 1), (7, 0), (6, 0), (6, 1), (5, 1), (4, 1), (3, 3)], [(14, 10), (15, 10), (16, 10), (17, 10), (18, 10), (19, 10), (18, 11), (19, 11), (19, 12), (17, 11), (16, 11), (16, 9)]]\n",
      "0 0\n",
      "[]\n",
      "1 4\n",
      "[[(4, 3)], [(8, 0)], [(15, 4), (16, 4), (16, 5), (16, 6)], [(18, 9)]]\n",
      "-1 2\n",
      "[[(4, 1), (5, 1), (6, 1), (7, 1), (8, 1), (9, 1), (10, 1), (11, 1), (12, 1), (13, 1), (14, 1), (15, 2), (16, 2), (17, 3), (17, 4), (17, 5), (16, 5), (15, 5), (15, 4), (16, 3), (15, 3), (14, 3), (14, 2), (13, 2), (12, 2), (12, 3), (12, 4), (13, 5), (14, 5), (14, 4), (11, 4), (11, 3), (11, 2), (10, 2), (10, 3), (10, 4), (9, 4), (9, 3), (9, 2), (8, 2), (8, 3), (8, 4), (7, 3), (7, 2), (6, 2), (6, 3), (5, 3), (5, 2), (4, 2), (4, 3), (13, 0), (12, 0), (11, 0), (10, 0), (9, 0), (8, 0), (7, 0), (6, 0)], [(14, 9), (15, 9), (16, 9), (17, 10), (18, 10), (19, 10), (19, 9), (18, 11), (19, 11), (18, 12), (19, 12), (17, 11), (16, 11), (16, 10), (15, 10), (14, 10)]]\n",
      "0 0\n",
      "[]\n",
      "1 6\n",
      "[[(3, 2)], [(7, 4)], [(13, 3), (13, 4)], [(15, 1)], [(16, 4)], [(17, 9), (18, 9)]]\n",
      "-1 2\n",
      "[[(3, 2), (4, 2), (5, 2), (6, 2), (7, 2), (8, 2), (9, 2), (10, 2), (11, 2), (12, 2), (13, 2), (14, 2), (15, 2), (16, 2), (16, 3), (17, 4), (18, 5), (15, 3), (15, 4), (14, 4), (14, 3), (13, 3), (13, 4), (14, 5), (13, 5), (12, 5), (12, 4), (12, 3), (11, 3), (11, 4), (10, 4), (10, 3), (9, 3), (8, 3), (7, 3), (6, 3), (5, 3), (15, 1), (14, 1), (13, 1), (13, 0), (12, 0), (12, 1), (11, 1), (11, 0), (10, 0), (10, 1), (9, 1), (9, 0), (8, 0), (8, 1), (7, 1), (7, 0), (6, 0), (6, 1), (5, 1), (4, 1)], [(13, 8), (14, 8), (15, 9), (16, 9), (17, 10), (18, 10), (19, 10), (18, 11), (19, 11), (17, 11), (16, 11), (16, 10), (15, 10), (14, 9)]]\n",
      "0 0\n",
      "[]\n",
      "1 2\n",
      "[[(15, 5), (16, 5), (17, 5), (16, 4), (17, 3)], [(15, 8), (16, 8), (17, 8), (18, 8), (19, 8), (19, 7), (18, 7), (18, 9), (19, 9), (17, 9)]]\n",
      "8.0 [5. 4. 4. 3. 7. 3. 4. 6. 8. 4.]\n"
     ]
    }
   ],
   "source": [
    "# Create contiguous zones zone_cont_z based on zone_mesh_z\n",
    "\n",
    "zone_cont_y= np.zeros((10,20,20))\n",
    "newvaly = np.zeros(10)\n",
    "\n",
    "for m in range(10):\n",
    "    newvaly[m] = 0\n",
    "    for i in [-1,0,1]:\n",
    "        #print(i,newvalz[m])\n",
    "        CCdict = list(printCC(i, zone_filled_3dy[m]).values())\n",
    "        print(i, len(CCdict))\n",
    "        print(CCdict)\n",
    "        if len(CCdict) == 0:\n",
    "            continue\n",
    "        if len(CCdict) >= 1:\n",
    "            for j in range(len(CCdict)):\n",
    "                newvaly[m] = newvaly[m] + 1\n",
    "                A = CCdict[j]\n",
    "                B = zip(*A)\n",
    "                Blist = list(B)\n",
    "                x = Blist[0]\n",
    "                y = Blist[1]\n",
    "                for k in range(len(x)):\n",
    "                    zone_cont_y[m][x[k]][y[k]] = newvaly[m]\n",
    "        else:\n",
    "            newvaly[m] = newvaly[m] + 1\n",
    "        \n",
    "print(np.amax(zone_cont_y), newvaly)"
   ]
  },
  {
   "cell_type": "code",
   "execution_count": 10,
   "metadata": {},
   "outputs": [
    {
     "name": "stdout",
     "output_type": "stream",
     "text": [
      "Contour plot of zones_velocity of Y:\n"
     ]
    },
    {
     "data": {
      "image/png": "[encoded data removed]",
      "text/plain": [
       "<Figure size 432x288 with 2 Axes>"
      ]
     },
     "metadata": {
      "needs_background": "light"
     },
     "output_type": "display_data"
    }
   ],
   "source": [
    "import matplotlib as mpl\n",
    "import matplotlib.colors as colors\n",
    "norm = mpl.colors.Normalize(vmin=-1, vmax=1)\n",
    "\n",
    "# Figures at X location identified by zloc\n",
    "zloc = 4\n",
    "#Contour plot of zones_velocity of Y:\n",
    "X = np.arange(0,21)\n",
    "Y = np.arange(0,21)\n",
    "Z = zone_cont_y[zloc]\n",
    "import matplotlib.pyplot as plt \n",
    "print('Contour plot of zones_velocity of Y:')\n",
    "\n",
    "plt.figure()\n",
    "\n",
    "pcm = plt.pcolormesh(X, Y, Z,cmap='RdYlGn', shading='auto', vmin=np.min(Z), vmax = np.max(Z))\n",
    "#pcm = plt.pcolormesh(X, Y, Z,cmap='Spectral', shading='auto', vmin=np.min(Z), vmax = np.max(Z))\n",
    "plt.gca().invert_yaxis()\n",
    "plt.xlabel('X axis')\n",
    "plt.ylabel('Y axis')\n",
    "plt.title('Compartment map for V_y at x ='+str(zloc))\n",
    "plt.colorbar()\n",
    "plt.show()"
   ]
  },
  {
   "cell_type": "code",
   "execution_count": 11,
   "metadata": {},
   "outputs": [],
   "source": [
    "# Function for overlapping contiguous zones.\n",
    "\n",
    "def overlapzone(A,B):\n",
    "    # Arrays need to be 1D\n",
    "    if len(A) != len(B):\n",
    "        print('Arrays of different length - error')\n",
    "        exit(1)\n",
    "    else:\n",
    "        Zone = np.zeros(len(A))\n",
    "        ab = []\n",
    "        for j in range(len(A)):\n",
    "            ab.append((A[j],B[j]))\n",
    "        Zone[0]=1\n",
    "        i = 1\n",
    "        while i <=len(ab)-1:\n",
    "            if ab[i] in ab[:i]:\n",
    "                Zone[i] = Zone[ab[:i].index(ab[i])]\n",
    "            else:\n",
    "                Zone[i] = max(Zone)+1\n",
    "            i = i + 1\n",
    "        return(Zone)"
   ]
  },
  {
   "cell_type": "code",
   "execution_count": 12,
   "metadata": {},
   "outputs": [
    {
     "name": "stdout",
     "output_type": "stream",
     "text": [
      "33.0 2.6165\n",
      "11.0\n",
      "13.0\n",
      "13.0\n",
      "14.0\n",
      "23.0\n",
      "25.0\n",
      "28.0\n",
      "30.0\n",
      "33.0\n",
      "28.0\n"
     ]
    }
   ],
   "source": [
    "zone_cont_z_1D = zone_cont_z.flatten()\n",
    "zone_cont_y_1D = zone_cont_y.flatten()\n",
    "\n",
    "zone_cont_overlap = overlapzone(zone_cont_z_1D,zone_cont_y_1D)\n",
    "\n",
    "zone_cont_overlap_3D = zone_cont_overlap.reshape(10,20,20)\n",
    "print(np.max(zone_cont_overlap_3D), np.average(zone_cont_overlap_3D))\n",
    "for x in np.arange(0,10):\n",
    "    print(np.max(zone_cont_overlap_3D[x]))"
   ]
  },
  {
   "cell_type": "code",
   "execution_count": 13,
   "metadata": {},
   "outputs": [
    {
     "name": "stdout",
     "output_type": "stream",
     "text": [
      "Overlap contour plot of zones_velocities (V_y & V_z):\n"
     ]
    },
    {
     "data": {
      "image/png": "[encoded data removed]",
      "text/plain": [
       "<Figure size 432x288 with 2 Axes>"
      ]
     },
     "metadata": {
      "needs_background": "light"
     },
     "output_type": "display_data"
    }
   ],
   "source": [
    "# Figures at X location for zone_cont_overlap\n",
    "zloc = 0\n",
    "#Contour plot of zones_velocity of Y:\n",
    "X = np.arange(0,21)\n",
    "Y = np.arange(0,21)\n",
    "Z = zone_cont_overlap_3D[zloc]\n",
    "import matplotlib.pyplot as plt \n",
    "import matplotlib.cm as cm\n",
    "print('Overlap contour plot of zones_velocities (V_y & V_z):')\n",
    "plt.figure()\n",
    "\n",
    "pcm = plt.pcolormesh(X, Y, Z,cmap='RdYlGn', shading='auto', vmin=np.min(Z), vmax = np.max(Z))\n",
    "#pcm = plt.pcolormesh(X, Y, Z,cmap='Spectral', shading='auto', vmin=np.min(Z), vmax = np.max(Z))\n",
    "plt.gca().invert_yaxis()\n",
    "plt.xlabel('X axis')\n",
    "plt.ylabel('Y axis')\n",
    "plt.title('Overlap Zone map for V_y and V_z at x='+str(zloc))\n",
    "plt.colorbar()\n",
    "plt.show()"
   ]
  },
  {
   "cell_type": "code",
   "execution_count": 14,
   "metadata": {},
   "outputs": [
    {
     "name": "stdout",
     "output_type": "stream",
     "text": [
      "[11.0, 13.0, 13.0, 14.0, 23.0, 25.0, 28.0, 30.0, 33.0, 28.0]\n"
     ]
    }
   ],
   "source": [
    "# Constructing newval for overlapped array:\n",
    "\n",
    "newval_overlap = []\n",
    "for i in range(10):\n",
    "    newval_overlap.append(np.amax(zone_cont_overlap_3D[i]))\n",
    "print(newval_overlap)"
   ]
  },
  {
   "cell_type": "code",
   "execution_count": 15,
   "metadata": {},
   "outputs": [
    {
     "name": "stdout",
     "output_type": "stream",
     "text": [
      "Stored 'zone_cont_overlap_3D' (ndarray)\n"
     ]
    }
   ],
   "source": [
    "%store zone_cont_overlap_3D"
   ]
  },
  {
   "cell_type": "code",
   "execution_count": 16,
   "metadata": {},
   "outputs": [],
   "source": [
    "# Evalauting velocity for overlaid zone map \n",
    "# This is evaluated separately for Y direction using vel_meshy\n",
    "\n",
    "def return_velocity_array(grid, newval, velmesh):\n",
    "    vel_av_zone = []\n",
    "    newval = [int(i) for i in newval]\n",
    "\n",
    "    for m in range(10):\n",
    "        vel_av_zone.append([])\n",
    "        for i in range(newval[m]):\n",
    "            boundary = np.where(grid[m] == i+1)\n",
    "            x = boundary[0]\n",
    "            y = boundary[1]\n",
    "            if len(x) == 0:\n",
    "                # Here, a value of 10 is assigned.\n",
    "                vel_av_zone[m].append(10)\n",
    "            else:\n",
    "                vel_av_zone[m].append(np.average(velmesh[m][x,y]))\n",
    "    return(vel_av_zone)\n",
    "\n",
    "vel_overlap_zones_y = return_velocity_array(zone_cont_overlap_3D, newval_overlap, vel_meshy)\n",
    "vel_overlap_zones_z = return_velocity_array(zone_cont_overlap_3D, newval_overlap, vel_mesh)"
   ]
  },
  {
   "cell_type": "code",
   "execution_count": 17,
   "metadata": {},
   "outputs": [
    {
     "name": "stdout",
     "output_type": "stream",
     "text": [
      "28\n",
      "[0.0, 0.010904488221457617, -0.0032483152508482036, -0.00151930677308146, -0.0012719873136411998, -0.022578107086874032, -0.000784803464990932, 1.18140689329562e-06, 0.00112304038813369, -0.024200856631468936, 0.00410289202147735]\n"
     ]
    }
   ],
   "source": [
    "print(len(vel_overlap_zones_y[9]))\n",
    "print(vel_overlap_zones_y[0])"
   ]
  },
  {
   "cell_type": "code",
   "execution_count": 18,
   "metadata": {},
   "outputs": [],
   "source": [
    "def calculate_interfacial_area(grid2d, zonenum, j):\n",
    "    nsize = len(grid2d)\n",
    "    x = np.where(grid2d == zonenum)[0]\n",
    "    y = np.where(grid2d == zonenum)[1]\n",
    "    listnotinsamezone = {}\n",
    "    for i in range(len(x)):\n",
    "            listnotinsamezone[x[i],y[i]] = []\n",
    "            if x[i] > 0 and x[i] < (nsize-1):\n",
    "                if y[i] > 0 and y[i] < (nsize-1):\n",
    "                    if grid2d[x[i]-1, y[i]] == j:\n",
    "                        listnotinsamezone[x[i],y[i]].append([x[i]-1, y[i]])\n",
    "                    if grid2d[x[i], y[i]-1] == j:\n",
    "                        listnotinsamezone[x[i],y[i]].append([x[i], y[i]-1])\n",
    "                    if grid2d[x[i]+1, y[i]] == j:\n",
    "                        listnotinsamezone[x[i],y[i]].append([x[i]+1, y[i]])\n",
    "                    if grid2d[x[i], y[i]+1] == j:\n",
    "                        listnotinsamezone[x[i],y[i]].append([x[i], y[i]+1])\n",
    "                if y[i] == 0:\n",
    "                    if grid2d[x[i]-1, y[i]] == j:\n",
    "                        listnotinsamezone[x[i],y[i]].append([x[i]-1, y[i]])\n",
    "                    if grid2d[x[i]+1, y[i]] == j:\n",
    "                        listnotinsamezone[x[i],y[i]].append([x[i]+1, y[i]])\n",
    "                    if grid2d[x[i], y[i]+1] == j:\n",
    "                        listnotinsamezone[x[i],y[i]].append([x[i], y[i]+1])\n",
    "                if y[i] == (nsize-1):\n",
    "                    if grid2d[x[i]-1, y[i]] == j:\n",
    "                        listnotinsamezone[x[i],y[i]].append([x[i]-1, y[i]])\n",
    "                    if grid2d[x[i], y[i]-1] == j:\n",
    "                        listnotinsamezone[x[i],y[i]].append([x[i], y[i]-1])\n",
    "                    if grid2d[x[i]+1, y[i]] == j:\n",
    "                        listnotinsamezone[x[i],y[i]].append([x[i]+1, y[i]])\n",
    "            if x[i] == 0:\n",
    "                if y[i] == 0:\n",
    "                    if grid2d[x[i]+1, y[i]] == j:\n",
    "                        listnotinsamezone[x[i],y[i]].append([x[i]+1, y[i]])\n",
    "                    if grid2d[x[i], y[i]+1] == j:\n",
    "                        listnotinsamezone[x[i],y[i]].append([x[i], y[i]+1])\n",
    "                if y[i] == (nsize-1):\n",
    "                    if grid2d[x[i], y[i]-1] == j:\n",
    "                        listnotinsamezone[x[i],y[i]].append([x[i], y[i]-1])\n",
    "                    if grid2d[x[i]+1, y[i]] == j:\n",
    "                        listnotinsamezone[x[i],y[i]].append([x[i]+1, y[i]])\n",
    "                if y[i] > 0 and y[i] < (nsize-1):\n",
    "                    if grid2d[x[i], y[i]-1] == j:\n",
    "                        listnotinsamezone[x[i],y[i]].append([x[i], y[i]-1])\n",
    "                    if grid2d[x[i]+1, y[i]] == j:\n",
    "                        listnotinsamezone[x[i],y[i]].append([x[i]+1, y[i]])\n",
    "                    if grid2d[x[i], y[i]+1] == j:\n",
    "                        listnotinsamezone[x[i],y[i]].append([x[i], y[i]+1])\n",
    "\n",
    "            if x[i] == (nsize-1):\n",
    "                if y[i] == 0:\n",
    "                    if grid2d[x[i]-1, y[i]] == j:\n",
    "                        listnotinsamezone[x[i],y[i]].append([x[i]-1, y[i]])\n",
    "                    if grid2d[x[i], y[i]+1] == j:\n",
    "                        listnotinsamezone[x[i],y[i]].append([x[i], y[i]+1])\n",
    "                if y[i] == (nsize-1):\n",
    "                    if grid2d[x[i]-1, y[i]] == j:\n",
    "                        listnotinsamezone[x[i],y[i]].append([x[i]-1, y[i]])\n",
    "                    if grid2d[x[i], y[i]-1] == j:\n",
    "                        listnotinsamezone[x[i],y[i]].append([x[i], y[i]-1])\n",
    "                if y[i] > 0 and y[i] < (nsize-1):\n",
    "                    if grid2d[x[i]-1, y[i]] == j:\n",
    "                        listnotinsamezone[x[i],y[i]].append([x[i]-1, y[i]])\n",
    "                    if grid2d[x[i], y[i]-1] == j:\n",
    "                        listnotinsamezone[x[i],y[i]].append([x[i], y[i]-1])\n",
    "                    if grid2d[x[i], y[i]+1] == j:\n",
    "                        listnotinsamezone[x[i],y[i]].append([x[i], y[i]+1])\n",
    "                    \n",
    "    # returning interfacial area as calculated below.           \n",
    "    #print(listnotinsamezone,sum(map(len, listnotinsamezone.values())))\n",
    "    return sum(map(len, listnotinsamezone.values())) "
   ]
  },
  {
   "cell_type": "code",
   "execution_count": 19,
   "metadata": {},
   "outputs": [
    {
     "name": "stdout",
     "output_type": "stream",
     "text": [
      "[(0, 1), (0, 2), (0, 3), (0, 4), (1, 0), (1, 2), (1, 3), (1, 4), (2, 0), (2, 1), (2, 3), (2, 4), (3, 0), (3, 1), (3, 2), (3, 4), (4, 0), (4, 1), (4, 2), (4, 3)] 20\n"
     ]
    }
   ],
   "source": [
    "from itertools import permutations\n",
    "\n",
    "Plist = list(permutations(range(5), 2))\n",
    "print(Plist, len(Plist))"
   ]
  },
  {
   "cell_type": "code",
   "execution_count": 20,
   "metadata": {},
   "outputs": [
    {
     "name": "stdout",
     "output_type": "stream",
     "text": [
      "[(0, 1), (0, 2), (0, 3), (0, 4), (1, 0), (1, 2), (1, 3), (1, 4), (2, 0), (2, 1), (2, 3), (2, 4), (3, 0), (3, 1), (3, 2), (3, 4), (4, 0), (4, 1), (4, 2), (4, 3)]\n"
     ]
    }
   ],
   "source": [
    "print(Plist)"
   ]
  },
  {
   "cell_type": "code",
   "execution_count": 21,
   "metadata": {},
   "outputs": [
    {
     "name": "stdout",
     "output_type": "stream",
     "text": [
      "[0, 0, 0, 0, 0, 0, 0, 0, 0, 0, 0, 6, 6, 0, 0, 28, 0, 2, 0, 3, 0, 6, 2, 2, 0, 0, 0, 0, 0, 0, 0, 6, 2, 2, 5, 10, 3, 0, 0, 0, 0, 0, 2, 2, 0, 0, 0, 0, 0, 0, 0, 0, 0, 5, 0, 0, 0, 0, 0, 0, 0, 28, 0, 10, 0, 0, 0, 2, 4, 6, 0, 0, 0, 3, 0, 0, 0, 0, 0, 0, 0, 2, 0, 0, 0, 0, 2, 0, 0, 0, 0, 0, 0, 0, 0, 0, 4, 0, 0, 0, 0, 3, 0, 0, 0, 0, 6, 0, 0, 0]\n",
      "110\n"
     ]
    }
   ],
   "source": [
    "# function for interfacial area array:\n",
    "\n",
    "from itertools import permutations\n",
    "\n",
    "def return_interfacial_area_array(grid, xvalue):\n",
    "    zones = np.arange(np.amax(grid[xvalue]))\n",
    "    tot = list(permutations(zones,2))\n",
    "    interfacial_area = []\n",
    "    \n",
    "    for i in tot:\n",
    "        interfacial_area.append(calculate_interfacial_area(grid[xvalue].astype(int), i[0].astype(int),i[1].astype(int)))\n",
    "    return(interfacial_area)\n",
    "\n",
    "print(return_interfacial_area_array(zone_cont_overlap_3D, 0))\n",
    "print(len(return_interfacial_area_array(zone_cont_overlap_3D, 0)))"
   ]
  },
  {
   "cell_type": "code",
   "execution_count": 24,
   "metadata": {},
   "outputs": [
    {
     "name": "stdout",
     "output_type": "stream",
     "text": [
      "110\n",
      "156\n",
      "156\n",
      "182\n",
      "506\n",
      "600\n",
      "756\n",
      "870\n",
      "1056\n",
      "756\n",
      "[11.0, 13.0, 13.0, 14.0, 23.0, 25.0, 28.0, 30.0, 33.0, 28.0]\n"
     ]
    }
   ],
   "source": [
    "for x in np.arange(0,10):\n",
    "    print(len(return_interfacial_area_array(zone_cont_overlap_3D,x)))\n",
    "print(newval_overlap)"
   ]
  },
  {
   "cell_type": "code",
   "execution_count": 30,
   "metadata": {},
   "outputs": [
    {
     "name": "stdout",
     "output_type": "stream",
     "text": [
      "[0.3188593159933367, 4.309802670499573, 0.0, 0.8333182958382533, 0.10422653204520228, 0.3085464001401544, -0.3188593159933367, 0.0, -0.0, -0.00636495505399172, -0.0, -0.0, -4.309802670499573, -0.0, -0.0, -0.4927748335462307, -0.18460532738357466, -0.18873852337902713, -0.0, 0.0, 0.0, -0.001839465624393715, -0.0, -0.0, -0.8333182958382533, 0.00636495505399172, 0.4927748335462307, 0.001839465624393715, 0.0, -0.0, -0.10422653204520228, 0.0, 0.18460532738357466, 0.0, -0.0, -0.0, -0.3085464001401544, 0.0, 0.18873852337902713, 0.0, 0.0, 0.0]\n",
      "[0.0027194700440571957, 2.044472209578622, -0.0027194700440571957, 0.0, -2.044472209578622, -0.0]\n",
      "6\n"
     ]
    }
   ],
   "source": [
    "# Function to evaluate flowrate:\n",
    "# Flowrate direction - for tot = (0,1), it should be bigger - smaller i.e. 1 - 0 based on the direction of Y.\n",
    "\n",
    "from itertools import permutations\n",
    "\n",
    "def return_flowrate_array(grid, xvalue, newval, velmesh):\n",
    "    zones = np.arange(np.amax(grid[xvalue]))\n",
    "    tot = list(permutations(zones,2))\n",
    "    flowrate = []\n",
    "    for i in range(len(tot)):\n",
    "        #print(return_interfacial_area_array(zone_cont_y,1)[i]*(vel_av_zone[1][int(tot[i][0])-1]-vel_av_zone[1][int(tot[i][1])-1]))\n",
    "        flowrate.append((return_interfacial_area_array(grid,xvalue)[i]*(return_velocity_array(grid,newval,velmesh)[xvalue][int(tot[i][0])-1]-return_velocity_array(grid,newval, velmesh)[xvalue][int(tot[i][1])-1])))\n",
    "    return(flowrate)\n",
    "\n",
    "#print(return_flowrate_array(zone_cont_y, 4, newvaly))\n",
    "#print(return_flowrate_array(zone_cont_y, 1, newvaly))\n",
    "print(return_flowrate_array(zone_cont_z, 4, newvalz, vel_mesh))\n",
    "print(return_flowrate_array(zone_cont_z, 2, newvalz, vel_mesh))\n",
    "print(len(return_flowrate_array(zone_cont_z, 2, newvalz, vel_mesh)))"
   ]
  },
  {
   "cell_type": "code",
   "execution_count": 26,
   "metadata": {},
   "outputs": [
    {
     "name": "stdout",
     "output_type": "stream",
     "text": [
      "[0.0, -0.0, -0.0, 0.0, -0.0, -0.0, -0.0, -0.0, 0.0, -0.0, -0.0, -0.0, -0.0, 0.0, 0.0, 0.0, 0.0, 0.0, 0.0, 0.0, -0.0, 0.0, -0.0, -0.0, -0.0, 0.0049383132535153, -0.0, -0.0, -0.0, -0.0, -0.0, -0.0, -0.0, -0.0, -0.0, 0.006585685599287525, -0.000729926942532408, -0.00228055458286427, 1.0071989640969465, 0.0181354938258012, 0.00326175350163762, -0.00237531133024942, -0.1926061533141186, 0.2285061775736589, 0.0, 0.0, 0, 0.0, 0, 0, 0, 0, 0.0, 0, 0, 0, 0, 0.0, 0.0, 0.0, 0.0, 0.0, 0.0, 0.0, 0.0, 0.0, 0.0, 0.0, 0, 0.0, 0, 0, 0, 0, 0.0, 0, 0, 0, 0, 0.0, 0.0, 0.0, 0.0, 0.0, 0.0, 0.0, 0.0, 0.0, -0.0, -0.0049383132535153, -0.0, -0.0, -0.0, -0.0, -0.0, -0.0, -0.0, -0.0, -0.0, -0.0, -0.0, -0.0, -0.0028341200980238537, -0.00474971120962192, 0.0, 0.0, 0.0, -0.0, -0.0, 0.0, 0.0, 0.0, 0, 0, 0.0, 0, 0, 0, 0.0, 0, 0, 0, 0, 0.0, 0.0, 0.0, 0.0, 0.0, 0.0, 0.0, 0.0, 0.0, 0.0, 0.0, 0, 0, 0.0, 0, 0, 0, 0.0, 0, 0, 0, 0, 0.0, 0.0, 0.0, 0.0, 0.0, 0.0, 0.0, 0.0, 0.0, 0.0, 0.0, 0, 0, 0.0, 0, 0, 0, 0.0, 0, 0, 0, 0, 0.0, 0.0, 0.0, 0.0, 0.0, 0.0, 0.0, 0.0, 0.0, 0.0, 0.0, 0, 0, 0.0, 0, 0, 0, 0.0, 0, 0, 0, 0, 0.0, 0.0, 0.0, 0.0, 0.0, 0.0, 0.0, 0.0, 0.0, -0.0, 0.0, -0.0, -0.0, 0.0, -0.0, -0.0, -0.0, -0.0, -0.0, -0.0, -0.0, -0.0, 0.008153167416602342, 0.0, -0.0, 0.0, 0.0, 0.0, 0.0, -0.0, 0.0, 0.0, 0.0, 0, 0, 0.0, 0, 0, 0, 0, 0.0, 0, 0, 0, 0.0, 0.0, 0.0, 0.0, 0.0, 0.0, 0.0, 0.0, 0.0, 0.0, 0.0, 0, 0, 0.0, 0, 0, 0, 0, 0.0, 0, 0, 0, 0.0, 0.0, 0.0, 0.0, 0.0, 0.0, 0.0, 0.0, 0.0, 0.0, 0.0, 0, 0, 0.0, 0, 0, 0, 0, 0.0, 0, 0, 0, 0.0, 0.0, 0.0, 0.0, 0.0, 0.0, 0.0, 0.0, 0.0, 0.0, 0.0, 0, 0, 0.0, 0, 0, 0, 0, 0.0, 0, 0, 0, 0.0, 0.0, 0.0, 0.0, 0.0, 0.0, 0.0, 0.0, 0.0, -0.0, -0.006585685599287525, -0.0, -0.0, 0.0, -0.0, -0.0, -0.0, -0.0, -0.008153167416602342, -0.0, -0.0, -0.0, -0.0, -0.00292515547562825, -0.0033781688494121907, 0.3011264594359079, 0.0, 0.0, -0.0, -0.0, 0.0, -0.0, 0.000729926942532408, -0.0, -0.0, 0.0028341200980238537, -0.0, -0.0, -0.0, -0.0, -0.0, -0.0, -0.0, -0.0, -0.0, 0.00292515547562825, -0.001915591111598066, 0.0, 0.0, 0.0, -0.0, -0.0, 0.0, -0.0, 0.00228055458286427, -0.0, -0.0, 0.00474971120962192, -0.0, -0.0, -0.0, -0.0, 0.0, -0.0, -0.0, -0.0, -0.0, 0.0033781688494121907, 0.001915591111598066, 0.0, 0.0, 0.0, 0.0, -0.0, 0.0, -0.0, -1.0071989640969465, -0.0, -0.0, -0.0, -0.0, -0.0, -0.0, -0.0, -0.0, -0.0, -0.0, -0.0, -0.0, -0.3011264594359079, -0.0, -0.0, -0.06180878361070561, -0.07095333638879757, -0.03992607736116111, -0.0, 0.03677624539475664, -0.0, -0.0181354938258012, -0.0, -0.0, -0.0, -0.0, -0.0, -0.0, -0.0, -0.0, -0.0, -0.0, -0.0, -0.0, -0.0, -0.0, -0.0, 0.06180878361070561, -0.0, -0.0, -0.0, 0.0, -0.0, -0.00326175350163762, -0.0, -0.0, -0.0, -0.0, -0.0, -0.0, -0.0, -0.0, -0.0, -0.0, -0.0, -0.0, -0.0, -0.0, -0.0, 0.07095333638879757, 0.0, -0.00444940916676233, -0.0, 0.0, -0.0, 0.00237531133024942, -0.0, -0.0, 0.0, -0.0, -0.0, -0.0, -0.0, -0.0, -0.0, -0.0, -0.0, -0.0, 0.0, 0.0, -0.0, 0.03992607736116111, 0.0, 0.00444940916676233, -0.0, 0.0, 0.0, 0.1926061533141186, -0.0, -0.0, 0.0, -0.0, -0.0, -0.0, -0.0, 0.0, -0.0, -0.0, -0.0, -0.0, 0.0, 0.0, 0.0, 0.0, 0.0, 0.0, 0.0, 0.12132859549812092, -0.0, -0.2285061775736589, -0.0, -0.0, -0.0, -0.0, -0.0, -0.0, -0.0, -0.0, -0.0, -0.0, -0.0, -0.0, -0.0, -0.0, -0.0, -0.03677624539475664, -0.0, -0.0, -0.0, -0.12132859549812092]\n",
      "506\n"
     ]
    }
   ],
   "source": [
    "print(return_flowrate_array(zone_cont_overlap_3D, 4, newval_overlap, vel_meshy))\n",
    "print(len(return_flowrate_array(zone_cont_overlap_3D, 4, newval_overlap, vel_mesh)))"
   ]
  },
  {
   "cell_type": "code",
   "execution_count": 29,
   "metadata": {
    "scrolled": true
   },
   "outputs": [
    {
     "name": "stdout",
     "output_type": "stream",
     "text": [
      "[(0.0, 1.0), (0.0, 2.0), (0.0, 3.0), (0.0, 4.0), (0.0, 5.0), (0.0, 6.0), (0.0, 7.0), (0.0, 8.0), (0.0, 9.0), (0.0, 10.0), (0.0, 11.0), (0.0, 12.0), (0.0, 13.0), (0.0, 14.0), (0.0, 15.0), (0.0, 16.0), (0.0, 17.0), (0.0, 18.0), (0.0, 19.0), (0.0, 20.0), (0.0, 21.0), (0.0, 22.0), (1.0, 0.0), (1.0, 2.0), (1.0, 3.0), (1.0, 4.0), (1.0, 5.0), (1.0, 6.0), (1.0, 7.0), (1.0, 8.0), (1.0, 9.0), (1.0, 10.0), (1.0, 11.0), (1.0, 12.0), (1.0, 13.0), (1.0, 14.0), (1.0, 15.0), (1.0, 16.0), (1.0, 17.0), (1.0, 18.0), (1.0, 19.0), (1.0, 20.0), (1.0, 21.0), (1.0, 22.0), (2.0, 0.0), (2.0, 1.0), (2.0, 3.0), (2.0, 4.0), (2.0, 5.0), (2.0, 6.0), (2.0, 7.0), (2.0, 8.0), (2.0, 9.0), (2.0, 10.0), (2.0, 11.0), (2.0, 12.0), (2.0, 13.0), (2.0, 14.0), (2.0, 15.0), (2.0, 16.0), (2.0, 17.0), (2.0, 18.0), (2.0, 19.0), (2.0, 20.0), (2.0, 21.0), (2.0, 22.0), (3.0, 0.0), (3.0, 1.0), (3.0, 2.0), (3.0, 4.0), (3.0, 5.0), (3.0, 6.0), (3.0, 7.0), (3.0, 8.0), (3.0, 9.0), (3.0, 10.0), (3.0, 11.0), (3.0, 12.0), (3.0, 13.0), (3.0, 14.0), (3.0, 15.0), (3.0, 16.0), (3.0, 17.0), (3.0, 18.0), (3.0, 19.0), (3.0, 20.0), (3.0, 21.0), (3.0, 22.0), (4.0, 0.0), (4.0, 1.0), (4.0, 2.0), (4.0, 3.0), (4.0, 5.0), (4.0, 6.0), (4.0, 7.0), (4.0, 8.0), (4.0, 9.0), (4.0, 10.0), (4.0, 11.0), (4.0, 12.0), (4.0, 13.0), (4.0, 14.0), (4.0, 15.0), (4.0, 16.0), (4.0, 17.0), (4.0, 18.0), (4.0, 19.0), (4.0, 20.0), (4.0, 21.0), (4.0, 22.0), (5.0, 0.0), (5.0, 1.0), (5.0, 2.0), (5.0, 3.0), (5.0, 4.0), (5.0, 6.0), (5.0, 7.0), (5.0, 8.0), (5.0, 9.0), (5.0, 10.0), (5.0, 11.0), (5.0, 12.0), (5.0, 13.0), (5.0, 14.0), (5.0, 15.0), (5.0, 16.0), (5.0, 17.0), (5.0, 18.0), (5.0, 19.0), (5.0, 20.0), (5.0, 21.0), (5.0, 22.0), (6.0, 0.0), (6.0, 1.0), (6.0, 2.0), (6.0, 3.0), (6.0, 4.0), (6.0, 5.0), (6.0, 7.0), (6.0, 8.0), (6.0, 9.0), (6.0, 10.0), (6.0, 11.0), (6.0, 12.0), (6.0, 13.0), (6.0, 14.0), (6.0, 15.0), (6.0, 16.0), (6.0, 17.0), (6.0, 18.0), (6.0, 19.0), (6.0, 20.0), (6.0, 21.0), (6.0, 22.0), (7.0, 0.0), (7.0, 1.0), (7.0, 2.0), (7.0, 3.0), (7.0, 4.0), (7.0, 5.0), (7.0, 6.0), (7.0, 8.0), (7.0, 9.0), (7.0, 10.0), (7.0, 11.0), (7.0, 12.0), (7.0, 13.0), (7.0, 14.0), (7.0, 15.0), (7.0, 16.0), (7.0, 17.0), (7.0, 18.0), (7.0, 19.0), (7.0, 20.0), (7.0, 21.0), (7.0, 22.0), (8.0, 0.0), (8.0, 1.0), (8.0, 2.0), (8.0, 3.0), (8.0, 4.0), (8.0, 5.0), (8.0, 6.0), (8.0, 7.0), (8.0, 9.0), (8.0, 10.0), (8.0, 11.0), (8.0, 12.0), (8.0, 13.0), (8.0, 14.0), (8.0, 15.0), (8.0, 16.0), (8.0, 17.0), (8.0, 18.0), (8.0, 19.0), (8.0, 20.0), (8.0, 21.0), (8.0, 22.0), (9.0, 0.0), (9.0, 1.0), (9.0, 2.0), (9.0, 3.0), (9.0, 4.0), (9.0, 5.0), (9.0, 6.0), (9.0, 7.0), (9.0, 8.0), (9.0, 10.0), (9.0, 11.0), (9.0, 12.0), (9.0, 13.0), (9.0, 14.0), (9.0, 15.0), (9.0, 16.0), (9.0, 17.0), (9.0, 18.0), (9.0, 19.0), (9.0, 20.0), (9.0, 21.0), (9.0, 22.0), (10.0, 0.0), (10.0, 1.0), (10.0, 2.0), (10.0, 3.0), (10.0, 4.0), (10.0, 5.0), (10.0, 6.0), (10.0, 7.0), (10.0, 8.0), (10.0, 9.0), (10.0, 11.0), (10.0, 12.0), (10.0, 13.0), (10.0, 14.0), (10.0, 15.0), (10.0, 16.0), (10.0, 17.0), (10.0, 18.0), (10.0, 19.0), (10.0, 20.0), (10.0, 21.0), (10.0, 22.0), (11.0, 0.0), (11.0, 1.0), (11.0, 2.0), (11.0, 3.0), (11.0, 4.0), (11.0, 5.0), (11.0, 6.0), (11.0, 7.0), (11.0, 8.0), (11.0, 9.0), (11.0, 10.0), (11.0, 12.0), (11.0, 13.0), (11.0, 14.0), (11.0, 15.0), (11.0, 16.0), (11.0, 17.0), (11.0, 18.0), (11.0, 19.0), (11.0, 20.0), (11.0, 21.0), (11.0, 22.0), (12.0, 0.0), (12.0, 1.0), (12.0, 2.0), (12.0, 3.0), (12.0, 4.0), (12.0, 5.0), (12.0, 6.0), (12.0, 7.0), (12.0, 8.0), (12.0, 9.0), (12.0, 10.0), (12.0, 11.0), (12.0, 13.0), (12.0, 14.0), (12.0, 15.0), (12.0, 16.0), (12.0, 17.0), (12.0, 18.0), (12.0, 19.0), (12.0, 20.0), (12.0, 21.0), (12.0, 22.0), (13.0, 0.0), (13.0, 1.0), (13.0, 2.0), (13.0, 3.0), (13.0, 4.0), (13.0, 5.0), (13.0, 6.0), (13.0, 7.0), (13.0, 8.0), (13.0, 9.0), (13.0, 10.0), (13.0, 11.0), (13.0, 12.0), (13.0, 14.0), (13.0, 15.0), (13.0, 16.0), (13.0, 17.0), (13.0, 18.0), (13.0, 19.0), (13.0, 20.0), (13.0, 21.0), (13.0, 22.0), (14.0, 0.0), (14.0, 1.0), (14.0, 2.0), (14.0, 3.0), (14.0, 4.0), (14.0, 5.0), (14.0, 6.0), (14.0, 7.0), (14.0, 8.0), (14.0, 9.0), (14.0, 10.0), (14.0, 11.0), (14.0, 12.0), (14.0, 13.0), (14.0, 15.0), (14.0, 16.0), (14.0, 17.0), (14.0, 18.0), (14.0, 19.0), (14.0, 20.0), (14.0, 21.0), (14.0, 22.0), (15.0, 0.0), (15.0, 1.0), (15.0, 2.0), (15.0, 3.0), (15.0, 4.0), (15.0, 5.0), (15.0, 6.0), (15.0, 7.0), (15.0, 8.0), (15.0, 9.0), (15.0, 10.0), (15.0, 11.0), (15.0, 12.0), (15.0, 13.0), (15.0, 14.0), (15.0, 16.0), (15.0, 17.0), (15.0, 18.0), (15.0, 19.0), (15.0, 20.0), (15.0, 21.0), (15.0, 22.0), (16.0, 0.0), (16.0, 1.0), (16.0, 2.0), (16.0, 3.0), (16.0, 4.0), (16.0, 5.0), (16.0, 6.0), (16.0, 7.0), (16.0, 8.0), (16.0, 9.0), (16.0, 10.0), (16.0, 11.0), (16.0, 12.0), (16.0, 13.0), (16.0, 14.0), (16.0, 15.0), (16.0, 17.0), (16.0, 18.0), (16.0, 19.0), (16.0, 20.0), (16.0, 21.0), (16.0, 22.0), (17.0, 0.0), (17.0, 1.0), (17.0, 2.0), (17.0, 3.0), (17.0, 4.0), (17.0, 5.0), (17.0, 6.0), (17.0, 7.0), (17.0, 8.0), (17.0, 9.0), (17.0, 10.0), (17.0, 11.0), (17.0, 12.0), (17.0, 13.0), (17.0, 14.0), (17.0, 15.0), (17.0, 16.0), (17.0, 18.0), (17.0, 19.0), (17.0, 20.0), (17.0, 21.0), (17.0, 22.0), (18.0, 0.0), (18.0, 1.0), (18.0, 2.0), (18.0, 3.0), (18.0, 4.0), (18.0, 5.0), (18.0, 6.0), (18.0, 7.0), (18.0, 8.0), (18.0, 9.0), (18.0, 10.0), (18.0, 11.0), (18.0, 12.0), (18.0, 13.0), (18.0, 14.0), (18.0, 15.0), (18.0, 16.0), (18.0, 17.0), (18.0, 19.0), (18.0, 20.0), (18.0, 21.0), (18.0, 22.0), (19.0, 0.0), (19.0, 1.0), (19.0, 2.0), (19.0, 3.0), (19.0, 4.0), (19.0, 5.0), (19.0, 6.0), (19.0, 7.0), (19.0, 8.0), (19.0, 9.0), (19.0, 10.0), (19.0, 11.0), (19.0, 12.0), (19.0, 13.0), (19.0, 14.0), (19.0, 15.0), (19.0, 16.0), (19.0, 17.0), (19.0, 18.0), (19.0, 20.0), (19.0, 21.0), (19.0, 22.0), (20.0, 0.0), (20.0, 1.0), (20.0, 2.0), (20.0, 3.0), (20.0, 4.0), (20.0, 5.0), (20.0, 6.0), (20.0, 7.0), (20.0, 8.0), (20.0, 9.0), (20.0, 10.0), (20.0, 11.0), (20.0, 12.0), (20.0, 13.0), (20.0, 14.0), (20.0, 15.0), (20.0, 16.0), (20.0, 17.0), (20.0, 18.0), (20.0, 19.0), (20.0, 21.0), (20.0, 22.0), (21.0, 0.0), (21.0, 1.0), (21.0, 2.0), (21.0, 3.0), (21.0, 4.0), (21.0, 5.0), (21.0, 6.0), (21.0, 7.0), (21.0, 8.0), (21.0, 9.0), (21.0, 10.0), (21.0, 11.0), (21.0, 12.0), (21.0, 13.0), (21.0, 14.0), (21.0, 15.0), (21.0, 16.0), (21.0, 17.0), (21.0, 18.0), (21.0, 19.0), (21.0, 20.0), (21.0, 22.0), (22.0, 0.0), (22.0, 1.0), (22.0, 2.0), (22.0, 3.0), (22.0, 4.0), (22.0, 5.0), (22.0, 6.0), (22.0, 7.0), (22.0, 8.0), (22.0, 9.0), (22.0, 10.0), (22.0, 11.0), (22.0, 12.0), (22.0, 13.0), (22.0, 14.0), (22.0, 15.0), (22.0, 16.0), (22.0, 17.0), (22.0, 18.0), (22.0, 19.0), (22.0, 20.0), (22.0, 21.0)]\n",
      "506\n",
      "[0.0, -0.0, -0.0, 0.0, -0.0, -0.0, -0.0, -0.0, 0.0, -0.0, -0.0, -0.0, -0.0, 0.0, 0.0, 0.0, 0.0, 0.0, 0.0, 0.0, 0.0, -0.0, -0.0, -0.0, -0.0, 0.001937733352889254, -0.0, -0.0, -0.0, -0.0, 0.0, -0.0, -0.0, -0.0, -0.0, -0.0030642839476461136, -0.00037324556212220785, 0.00231474036942272, 1.5890421568202637, -0.000418103096309617, -0.00278453690658188, -0.001614266566011326, -0.2106678733931781, -0.45456822637970773, 0.0, 0.0, 0, 0.0, 0, 0, 0, 0, 0.0, 0, 0, 0, 0, 0.0, 0.0, 0.0, 0.0, 0.0, 0.0, 0.0, 0.0, 0.0, 0.0, 0.0, 0, 0.0, 0, 0, 0, 0, 0.0, 0, 0, 0, 0, 0.0, 0.0, 0.0, 0.0, 0.0, 0.0, 0.0, 0.0, 0.0, -0.0, -0.001937733352889254, -0.0, -0.0, -0.0, -0.0, -0.0, -0.0, -0.0, -0.0, -0.0, -0.0, -0.0, -0.0, -0.0011554894575057308, 0.001345873692978093, 0.0, -0.0, -0.0, -0.0, -0.0, -0.0, 0.0, 0.0, 0, 0, 0.0, 0, 0, 0, 0.0, 0, 0, 0, 0, 0.0, 0.0, 0.0, 0.0, 0.0, 0.0, 0.0, 0.0, 0.0, 0.0, 0.0, 0, 0, 0.0, 0, 0, 0, 0.0, 0, 0, 0, 0, 0.0, 0.0, 0.0, 0.0, 0.0, 0.0, 0.0, 0.0, 0.0, 0.0, 0.0, 0, 0, 0.0, 0, 0, 0, 0.0, 0, 0, 0, 0, 0.0, 0.0, 0.0, 0.0, 0.0, 0.0, 0.0, 0.0, 0.0, 0.0, 0.0, 0, 0, 0.0, 0, 0, 0, 0.0, 0, 0, 0, 0, 0.0, 0.0, 0.0, 0.0, 0.0, 0.0, 0.0, 0.0, 0.0, -0.0, -0.0, -0.0, -0.0, 0.0, -0.0, -0.0, -0.0, -0.0, -0.0, -0.0, -0.0, -0.0, -0.0019320631130260717, -0.0, 0.0, 0.0, -0.0, -0.0, -0.0, -0.0, -0.0, 0.0, 0.0, 0, 0, 0.0, 0, 0, 0, 0, 0.0, 0, 0, 0, 0.0, 0.0, 0.0, 0.0, 0.0, 0.0, 0.0, 0.0, 0.0, 0.0, 0.0, 0, 0, 0.0, 0, 0, 0, 0, 0.0, 0, 0, 0, 0.0, 0.0, 0.0, 0.0, 0.0, 0.0, 0.0, 0.0, 0.0, 0.0, 0.0, 0, 0, 0.0, 0, 0, 0, 0, 0.0, 0, 0, 0, 0.0, 0.0, 0.0, 0.0, 0.0, 0.0, 0.0, 0.0, 0.0, 0.0, 0.0, 0, 0, 0.0, 0, 0, 0, 0, 0.0, 0, 0, 0, 0.0, 0.0, 0.0, 0.0, 0.0, 0.0, 0.0, 0.0, 0.0, -0.0, 0.0030642839476461136, -0.0, -0.0, 0.0, -0.0, -0.0, -0.0, -0.0, 0.0019320631130260717, -0.0, -0.0, -0.0, -0.0, 0.0006481824204264968, 0.0028254543606970723, 0.49302176018258365, 0.0, -0.0, -0.0, -0.0, -0.0, -0.0, 0.00037324556212220785, -0.0, -0.0, 0.0011554894575057308, -0.0, -0.0, -0.0, -0.0, 0.0, -0.0, -0.0, -0.0, -0.0, -0.0006481824204264968, 0.0025013631504838237, 0.0, -0.0, -0.0, -0.0, -0.0, -0.0, -0.0, -0.00231474036942272, -0.0, -0.0, -0.001345873692978093, -0.0, -0.0, -0.0, -0.0, -0.0, -0.0, -0.0, -0.0, -0.0, -0.0028254543606970723, -0.0025013631504838237, 0.0, -0.0, -0.0, -0.0, -0.0, -0.0, -0.0, -1.5890421568202637, -0.0, -0.0, -0.0, -0.0, -0.0, -0.0, -0.0, -0.0, -0.0, -0.0, -0.0, -0.0, -0.49302176018258365, -0.0, -0.0, -0.18460532738357466, -0.12780308587626096, -0.06192413931455427, -0.0, -0.34951812525295106, -0.0, 0.000418103096309617, -0.0, -0.0, 0.0, -0.0, -0.0, -0.0, -0.0, 0.0, -0.0, -0.0, -0.0, -0.0, -0.0, 0.0, 0.0, 0.18460532738357466, -0.0, -0.0, -0.0, -0.0, -0.0, 0.00278453690658188, -0.0, -0.0, 0.0, -0.0, -0.0, -0.0, -0.0, 0.0, -0.0, -0.0, -0.0, -0.0, 0.0, 0.0, 0.0, 0.12780308587626096, 0.0, 0.001977403623576217, -0.0, -0.0, -0.0, 0.001614266566011326, -0.0, -0.0, 0.0, -0.0, -0.0, -0.0, -0.0, 0.0, -0.0, -0.0, -0.0, -0.0, 0.0, 0.0, 0.0, 0.06192413931455427, 0.0, -0.001977403623576217, -0.0, -0.0, -0.0, 0.2106678733931781, -0.0, -0.0, 0.0, -0.0, -0.0, -0.0, -0.0, 0.0, -0.0, -0.0, -0.0, -0.0, 0.0, 0.0, 0.0, 0.0, 0.0, 0.0, 0.0, -0.04341943213053423, 0.0, 0.45456822637970773, -0.0, -0.0, 0.0, -0.0, -0.0, -0.0, -0.0, 0.0, -0.0, -0.0, -0.0, -0.0, 0.0, 0.0, 0.0, 0.34951812525295106, 0.0, 0.0, 0.0, 0.04341943213053423]\n"
     ]
    },
    {
     "name": "stdout",
     "output_type": "stream",
     "text": [
      "506\n"
     ]
    }
   ],
   "source": [
    "print(list(permutations(np.arange(np.amax(zone_cont_overlap_3D[4])),2)))\n",
    "print(len(list(permutations(np.arange(np.amax(zone_cont_overlap_3D[4])),2))))\n",
    "\n",
    "print(return_flowrate_array(zone_cont_overlap_3D, 4, newval_overlap, vel_mesh))\n",
    "print(len(return_flowrate_array(zone_cont_overlap_3D, 4, newval_overlap, vel_mesh)))"
   ]
  },
  {
   "cell_type": "code",
   "execution_count": 27,
   "metadata": {},
   "outputs": [
    {
     "name": "stdout",
     "output_type": "stream",
     "text": [
      "110\n",
      "156\n",
      "156\n",
      "182\n",
      "506\n",
      "600\n",
      "756\n",
      "870\n",
      "1056\n",
      "756\n"
     ]
    }
   ],
   "source": [
    "for xloc in np.arange(0, 10):\n",
    "    Farray = return_flowrate_array(zone_cont_overlap_3D, xloc, newval_overlap, vel_mesh)\n",
    "    print(len(Farray))"
   ]
  },
  {
   "cell_type": "code",
   "execution_count": 28,
   "metadata": {},
   "outputs": [
    {
     "name": "stdout",
     "output_type": "stream",
     "text": [
      "[11.0, 13.0, 13.0, 14.0, 23.0, 25.0, 28.0, 30.0, 33.0, 28.0]\n"
     ]
    }
   ],
   "source": [
    "print(newval_overlap)"
   ]
  },
  {
   "cell_type": "code",
   "execution_count": 31,
   "metadata": {},
   "outputs": [
    {
     "name": "stdout",
     "output_type": "stream",
     "text": [
      "B\n",
      "dict_values([298, 4, 21, 1, 2, 64, 1, 1, 1, 6, 1])\n"
     ]
    }
   ],
   "source": [
    "import xlsxwriter, collections\n",
    "\n",
    "workbook = xlsxwriter.Workbook('radialwork_ax0.xlsx')\n",
    "worksheet = workbook.add_worksheet('radial')\n",
    "\n",
    "worksheet.write('A1', 'No_Compartments')\n",
    "row = 0\n",
    "col = 0\n",
    "worksheet.write(row + 1, col, newval_overlap[0])\n",
    "row = row + 1\n",
    "\n",
    "from string import ascii_uppercase\n",
    "import itertools\n",
    "first_char = [''] + list(ascii_uppercase)\n",
    "def iter_excel_columns():\n",
    "    for char1, char2 in itertools.product(first_char, ascii_uppercase):\n",
    "            yield char1 + char2\n",
    "\n",
    "alphabetlist = []\n",
    "\n",
    "for s in iter_excel_columns():\n",
    "    alphabetlist.append(s)\n",
    "    if s == 'bb':\n",
    "        break\n",
    "#print(alphabetlist)\n",
    "print(str(alphabetlist[1]))\n",
    "\n",
    "worksheet.write('B1', 'Fz_0')\n",
    "row = 0\n",
    "col = 1\n",
    "for i in return_flowrate_array(zone_cont_overlap_3D, 0, newval_overlap, vel_mesh):\n",
    "    worksheet.write(row + 1, col, i)\n",
    "    row = row + 1\n",
    "    \n",
    "worksheet.write('C1', 'Fy_0')\n",
    "row = 0\n",
    "col = 2\n",
    "\n",
    "for i in return_flowrate_array(zone_cont_overlap_3D, 0, newval_overlap, vel_meshy):\n",
    "    worksheet.write(row + 1, col, i)\n",
    "    row = row + 1\n",
    "        \n",
    "worksheet.write('D1', 'V_0')\n",
    "row = 0\n",
    "col = 3\n",
    "\n",
    "c = dict(collections.Counter(zone_cont_overlap_3D[0].flatten()))\n",
    "value = c.values()\n",
    "print(value)\n",
    "for i in list(value):\n",
    "    worksheet.write(row + 1, col, i)\n",
    "    row = row + 1\n",
    "\n",
    "workbook.close()"
   ]
  },
  {
   "cell_type": "code",
   "execution_count": 36,
   "metadata": {},
   "outputs": [
    {
     "name": "stdout",
     "output_type": "stream",
     "text": [
      "B\n",
      "dict_values([298, 4, 21, 1, 2, 64, 1, 1, 1, 6, 1])\n"
     ]
    }
   ],
   "source": [
    "import xlsxwriter, collections\n",
    "\n",
    "workbook = xlsxwriter.Workbook('radialwork_ax0.xlsx')\n",
    "worksheet = workbook.add_worksheet('radial')\n",
    "\n",
    "worksheet.write('A1', 'No_Compartments')\n",
    "row = 0\n",
    "col = 0\n",
    "for i in newval_overlap:\n",
    "    worksheet.write(row + 1, col, i)\n",
    "    row = row + 1\n",
    "\n",
    "from string import ascii_uppercase\n",
    "import itertools\n",
    "first_char = [''] + list(ascii_uppercase)\n",
    "def iter_excel_columns():\n",
    "    for char1, char2 in itertools.product(first_char, ascii_uppercase):\n",
    "            yield char1 + char2\n",
    "\n",
    "alphabetlist = []\n",
    "\n",
    "for s in iter_excel_columns():\n",
    "    alphabetlist.append(s)\n",
    "    if s == 'bb':\n",
    "        break\n",
    "#print(alphabetlist)\n",
    "print(str(alphabetlist[1]))\n",
    "\n",
    "worksheet.write('B1', 'Fz_'+str(x))\n",
    "row = 0\n",
    "col = 1\n",
    "for i in return_flowrate_array(zone_cont_overlap_3D, 0, newval_overlap, vel_mesh):\n",
    "    worksheet.write(row + 1, col, i)\n",
    "    row = row + 1\n",
    "    \n",
    "worksheet.write('C1', 'Fy_0')\n",
    "row = 0\n",
    "col = 2\n",
    "\n",
    "for i in return_flowrate_array(zone_cont_overlap_3D, 0, newval_overlap, vel_meshy):\n",
    "    worksheet.write(row + 1, col, i)\n",
    "    row = row + 1\n",
    "        \n",
    "worksheet.write('D1', 'V_0')\n",
    "row = 0\n",
    "col = 3\n",
    "\n",
    "c = dict(collections.Counter(zone_cont_overlap_3D[0].flatten()))\n",
    "value = c.values()\n",
    "print(value)\n",
    "for i in list(value):\n",
    "    worksheet.write(row + 1, col, i)\n",
    "    row = row + 1\n",
    "\n",
    "workbook.close()"
   ]
  },
  {
   "cell_type": "code",
   "execution_count": 37,
   "metadata": {},
   "outputs": [
    {
     "name": "stdout",
     "output_type": "stream",
     "text": [
      "Counter({1.0: 305, 5.0: 63, 7.0: 26, 4.0: 3, 14.0: 1, 6.0: 1, 12.0: 1})\n",
      "305\n",
      "[11.0, 13.0, 13.0, 14.0, 23.0, 25.0, 28.0, 30.0, 33.0, 28.0]\n",
      "[0, 312, 1, 20, 3, 3, 55, 0, 0, 0, 1, 0, 0, 0, 1, 0, 0, 0, 0, 0, 0, 0, 0, 0, 2] 25\n"
     ]
    }
   ],
   "source": [
    "print(collections.Counter(zone_cont_overlap_3D[3].flatten()))\n",
    "\n",
    "def return_area(xloc, grid, value):\n",
    "    return(np.count_nonzero(grid[xloc].flatten() == value))\n",
    "\n",
    "print(return_area(3, zone_cont_overlap_3D, 1))\n",
    "\n",
    "def return_area_2(xloc, grid, val):\n",
    "    return(len(np.where(grid[xloc] == val)))\n",
    "\n",
    "print(newval_overlap)\n",
    "\n",
    "xloc = 5\n",
    "vol = []\n",
    "for val in np.arange(0, int(newval_overlap[xloc])):\n",
    "    vol.append(return_area(xloc, zone_cont_overlap_3D,val))\n",
    "print(vol, len(vol))"
   ]
  },
  {
   "cell_type": "code",
   "execution_count": 39,
   "metadata": {},
   "outputs": [
    {
     "name": "stdout",
     "output_type": "stream",
     "text": [
      "[11.0, 13.0, 13.0, 14.0, 23.0, 25.0, 28.0, 30.0, 33.0, 28.0]\n",
      "[0, 298, 4, 21, 1, 2, 64, 1, 1, 1, 6] 11 0\n",
      "[0, 304, 1, 1, 1, 71, 18, 1, 1, 0, 0, 0, 1] 13 1\n",
      "[0, 304, 1, 0, 1, 65, 27, 0, 0, 0, 0, 0, 1] 13 2\n",
      "[0, 305, 0, 0, 3, 63, 1, 26, 0, 0, 0, 0, 1, 0] 14 3\n",
      "[0, 302, 0, 0, 1, 0, 0, 0, 0, 1, 0, 0, 0, 0, 19, 2, 1, 66, 1, 1, 1, 1, 3] 23 4\n",
      "[0, 312, 1, 20, 3, 3, 55, 0, 0, 0, 1, 0, 0, 0, 1, 0, 0, 0, 0, 0, 0, 0, 0, 0, 2] 25 5\n",
      "[0, 313, 0, 34, 1, 1, 2, 1, 0, 0, 32, 0, 0, 0, 0, 0, 0, 0, 0, 0, 0, 0, 12, 0, 0, 0, 1, 1] 28 6\n",
      "[0, 322, 0, 1, 1, 28, 29, 0, 0, 1, 0, 0, 0, 0, 12, 0, 1, 0, 0, 0, 0, 0, 0, 0, 0, 0, 0, 0, 0, 4] 30 7\n",
      "[0, 318, 0, 0, 0, 28, 30, 0, 0, 0, 0, 2, 0, 1, 16, 0, 1, 0, 0, 0, 0, 0, 0, 0, 0, 0, 0, 0, 0, 0, 0, 1, 1] 33 8\n",
      "[0, 314, 0, 0, 35, 0, 21, 1, 0, 0, 0, 0, 0, 1, 0, 0, 4, 3, 11, 0, 0, 0, 0, 0, 0, 0, 1, 0] 28 9\n"
     ]
    }
   ],
   "source": [
    "import xlsxwriter, collections\n",
    "\n",
    "workbook = xlsxwriter.Workbook('radialwork.xlsx')\n",
    "worksheet = workbook.add_worksheet('radial')\n",
    "\n",
    "worksheet.write('A1', 'No_Compartments')\n",
    "row = 0\n",
    "col = 0\n",
    "for i in newval_overlap:\n",
    "    worksheet.write(row + 1, col, i)\n",
    "    row = row + 1\n",
    "\n",
    "from string import ascii_uppercase\n",
    "import itertools\n",
    "first_char = [''] + list(ascii_uppercase)\n",
    "def iter_excel_columns():\n",
    "    for char1, char2 in itertools.product(first_char, ascii_uppercase):\n",
    "            yield char1 + char2\n",
    "\n",
    "alphabetlist = []\n",
    "\n",
    "for s in iter_excel_columns():\n",
    "    alphabetlist.append(s)\n",
    "    if s == 'bb':\n",
    "        break\n",
    "        \n",
    "print(newval_overlap)\n",
    "\n",
    "for x in np.arange(0,10):\n",
    "    worksheet.write(str(alphabetlist[3*x+1])+'1', 'Fz_'+str(x))\n",
    "    row = 0\n",
    "    col = 3*x+1\n",
    "    for i in return_flowrate_array(zone_cont_overlap_3D, x, newval_overlap, vel_mesh):\n",
    "        worksheet.write(row + 1, col, i)\n",
    "        row = row + 1\n",
    "\n",
    "    worksheet.write(str(alphabetlist[3*x+2])+'1', 'Fy_'+str(x))\n",
    "    row = 0\n",
    "    col = 3*x+2\n",
    "\n",
    "    for i in return_flowrate_array(zone_cont_overlap_3D, x, newval_overlap, vel_meshy):\n",
    "        worksheet.write(row + 1, col, i)\n",
    "        row = row + 1\n",
    "\n",
    "    worksheet.write(str(alphabetlist[3*x+3])+'1', 'V_'+str(x))\n",
    "    row = 0\n",
    "    col = 3*x+3\n",
    "    \n",
    "    vol = []\n",
    "    for val in np.arange(0, int(newval_overlap[x])):\n",
    "        vol.append(return_area(x, zone_cont_overlap_3D, val))\n",
    "    print(vol, len(vol), x)\n",
    "    for j in list(vol):\n",
    "        worksheet.write(row + 1, col, j)\n",
    "        row = row + 1\n",
    "\n",
    "workbook.close()"
   ]
  },
  {
   "cell_type": "code",
   "execution_count": null,
   "metadata": {},
   "outputs": [],
   "source": []
  }
 ],
 "metadata": {
  "kernelspec": {
   "display_name": "Python 3",
   "language": "python",
   "name": "python3"
  },
  "language_info": {
   "codemirror_mode": {
    "name": "ipython",
    "version": 3
   },
   "file_extension": ".py",
   "mimetype": "text/x-python",
   "name": "python",
   "nbconvert_exporter": "python",
   "pygments_lexer": "ipython3",
   "version": "3.7.6"
  }
 },
 "nbformat": 4,
 "nbformat_minor": 4
}
