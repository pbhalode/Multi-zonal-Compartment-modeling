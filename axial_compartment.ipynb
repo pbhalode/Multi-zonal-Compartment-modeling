{
 "cells": [
  {
   "cell_type": "code",
   "execution_count": 1,
   "metadata": {},
   "outputs": [
    {
     "name": "stdout",
     "output_type": "stream",
     "text": [
      "Velocity_PSM_X_temp.xlsx\n",
      "Vel_max = 0.341695069346771\n",
      "Vel_min = -0.17920179834552\n",
      "Vel_max-Vel_min = 0.520896867692291\n"
     ]
    }
   ],
   "source": [
    "import numpy as np                                                                                                                 \n",
    "import math\n",
    "import pandas as pd \n",
    "import numpy as np \n",
    "import xlrd\n",
    "\n",
    "loc_y=('Velocity_PSM_X_temp.xlsx')  \n",
    "print(loc_y)\n",
    "wb = xlrd.open_workbook(loc_y)\n",
    "\n",
    "sheet = wb.sheet_by_index(0)\n",
    "\n",
    "#for i in range(1,sheet.ncols): \n",
    "#\tprint(sheet.cell_value(0, i)) \n",
    "\n",
    "x = sheet.cell_value(0,sheet.ncols-1)\n",
    "vel_mesh = np.zeros((int(x.split('(')[1].split(')')[0].split('x')[0]),int(x.split('(')[1].split(')')[0].split('x')[1]),int(x.split('(')[1].split(')')[0].split('x')[2])))\n",
    "\n",
    "for i in range(1,sheet.ncols): \n",
    "    x = (sheet.cell_value(0, i)) \n",
    "    ag=x.split('(')[1].split(')')[0].split('x') \n",
    "    vel=float(sheet.cell_value(1, i)) \n",
    "    vel_mesh[int(ag[0])-1][int(ag[1])-1][int(ag[2])-1] = vel \n",
    "\n",
    "#creating zones:\n",
    "vel_max = vel_mesh.max()\n",
    "vel_min = vel_mesh.min()\n",
    "\n",
    "print('Vel_max = '+str(vel_max))\n",
    "print('Vel_min = '+str(vel_min))\n",
    "print('Vel_max-Vel_min = '+str(abs(vel_max-vel_min)))\n",
    "\n",
    "# zoning\n",
    "\n",
    "zone = []\n",
    "for i in range(len(vel_mesh.flatten())):\n",
    "    if vel_mesh.flatten()[i] == 0:\n",
    "        zone.append(0)\n",
    "    if vel_mesh.flatten()[i] > 0:\n",
    "        zone.append(1)\n",
    "    if vel_mesh.flatten()[i] < 0:\n",
    "        zone.append(-1)\n",
    "        \n",
    "zone_3d = np.asarray(zone).reshape((int(x.split('(')[1].split(')')[0].split('x')[0]),int(x.split('(')[1].split(')')[0].split('x')[1]),int(x.split('(')[1].split(')')[0].split('x')[2])))"
   ]
  },
  {
   "cell_type": "code",
   "execution_count": 2,
   "metadata": {},
   "outputs": [
    {
     "name": "stdout",
     "output_type": "stream",
     "text": [
      "NumParticles_temp1.xlsx\n"
     ]
    }
   ],
   "source": [
    "loc_filled=('NumParticles_temp1.xlsx')  \n",
    "print(loc_filled)\n",
    "wb = xlrd.open_workbook(loc_filled)\n",
    "\n",
    "sheet = wb.sheet_by_index(0)\n",
    "\n",
    "#for i in range(1,sheet.ncols): \n",
    "#\tprint(sheet.cell_value(0, i)) \n",
    "\n",
    "x = sheet.cell_value(0,sheet.ncols-1)\n",
    "num_mesh = np.zeros((int(x.split('(')[1].split(')')[0].split('x')[0]),int(x.split('(')[1].split(')')[0].split('x')[1]),int(x.split('(')[1].split(')')[0].split('x')[2])))\n",
    "filled_mesh = np.zeros((int(x.split('(')[1].split(')')[0].split('x')[0]),int(x.split('(')[1].split(')')[0].split('x')[1]),int(x.split('(')[1].split(')')[0].split('x')[2])))\n",
    "\n",
    "for i in range(1,sheet.ncols): \n",
    "    x = (sheet.cell_value(0, i)) \n",
    "    ag=x.split('(')[1].split(')')[0].split('x') \n",
    "    num=float(sheet.cell_value(1, i)) \n",
    "    num_mesh[int(ag[0])-1][int(ag[1])-1][int(ag[2])-1] = num\n",
    "    if num > 0:\n",
    "        filled_mesh[int(ag[0])-1][int(ag[1])-1][int(ag[2])-1] = 1\n",
    "    else:\n",
    "        filled_mesh[int(ag[0])-1][int(ag[1])-1][int(ag[2])-1] = 0"
   ]
  },
  {
   "cell_type": "code",
   "execution_count": 3,
   "metadata": {},
   "outputs": [],
   "source": [
    "zone_filled_3d = np.ones((int(x.split('(')[1].split(')')[0].split('x')[0]),int(x.split('(')[1].split(')')[0].split('x')[1]),int(x.split('(')[1].split(')')[0].split('x')[2])))\n",
    "zone_filled_3d = np.array(zone_filled_3d)*(-2)\n",
    "\n",
    "for x in range(10):\n",
    "    for i in range(20):\n",
    "        for j in range(20):\n",
    "            if filled_mesh[x][i][j] == 1:\n",
    "                zone_filled_3d[x][i][j] = zone_3d[x][i][j]"
   ]
  },
  {
   "cell_type": "code",
   "execution_count": 4,
   "metadata": {},
   "outputs": [
    {
     "name": "stdout",
     "output_type": "stream",
     "text": [
      "[102.  96.  96.  95.  98.  88.  87.  78.  82.  86.]\n"
     ]
    }
   ],
   "source": [
    "V_filled = np.zeros(10)\n",
    "\n",
    "for x in range(10):\n",
    "    V_filled[x] = len(np.where(filled_mesh[x] == 1)[0])\n",
    "print(V_filled)"
   ]
  },
  {
   "cell_type": "code",
   "execution_count": 5,
   "metadata": {},
   "outputs": [
    {
     "name": "stdout",
     "output_type": "stream",
     "text": [
      "Contour plot of zones_velocity of X:\n"
     ]
    },
    {
     "data": {
      "image/png": "[encoded data removed]",
      "text/plain": [
       "<Figure size 432x288 with 2 Axes>"
      ]
     },
     "metadata": {
      "needs_background": "light"
     },
     "output_type": "display_data"
    },
    {
     "data": {
      "image/png": "[encoded data removed]",
      "text/plain": [
       "<Figure size 432x288 with 2 Axes>"
      ]
     },
     "metadata": {
      "needs_background": "light"
     },
     "output_type": "display_data"
    }
   ],
   "source": [
    "import matplotlib as mpl\n",
    "import matplotlib.colors as colors\n",
    "norm = mpl.colors.Normalize(vmin=-1, vmax=1)\n",
    "\n",
    "# Figures at X location identified by zloc\n",
    "zloc = 7\n",
    "#Contour plot of zones_velocity of Y:\n",
    "X = np.arange(0,21)\n",
    "Y = np.arange(0,21)\n",
    "Z = zone_filled_3d[zloc]\n",
    "import matplotlib.pyplot as plt \n",
    "print('Contour plot of zones_velocity of X:')\n",
    "\n",
    "plt.figure()\n",
    "pcm = plt.pcolormesh(X, Y, Z,cmap='RdYlGn', shading='auto', vmin=np.min(Z), vmax = np.max(Z))\n",
    "#pcm = plt.pcolormesh(X, Y, Z,cmap='Spectral', shading='auto', vmin=np.min(Z), vmax = np.max(Z))\n",
    "plt.gca().invert_yaxis()\n",
    "plt.xlabel('X axis')\n",
    "plt.ylabel('Y axis')\n",
    "plt.title('Compartment map for V_X at x ='+str(zloc), fontsize = 14)\n",
    "plt.colorbar()\n",
    "plt.show()\n",
    "\n",
    "\n",
    "plt.figure()\n",
    "pcm = plt.pcolormesh(X, Y, zone_filled_3d[zloc],cmap='Spectral', shading='auto', vmin=np.min(Z), vmax = np.max(Z))\n",
    "#pcm = plt.pcolormesh(X, Y, Z,cmap='Spectral', shading='auto', vmin=np.min(Z), vmax = np.max(Z))\n",
    "plt.gca().invert_yaxis()\n",
    "plt.xlabel('X axis')\n",
    "plt.ylabel('Y axis')\n",
    "plt.title('Compartment map for V_X at x = 1', fontsize = 14)\n",
    "plt.colorbar()\n",
    "plt.show()\n"
   ]
  },
  {
   "cell_type": "code",
   "execution_count": 16,
   "metadata": {},
   "outputs": [
    {
     "name": "stdout",
     "output_type": "stream",
     "text": [
      "Counter({-2.0: 304, 1.0: 50, -1.0: 46})\n",
      "46\n"
     ]
    }
   ],
   "source": [
    "# This function gives you the area of zones using collections counter.\n",
    "\n",
    "import collections\n",
    "print(collections.Counter(zone_filled_3d[1].flatten()))\n",
    "\n",
    "print(collections.Counter(zone_filled_3d[1].flatten())[-1.0])"
   ]
  },
  {
   "cell_type": "code",
   "execution_count": 6,
   "metadata": {},
   "outputs": [
    {
     "name": "stdout",
     "output_type": "stream",
     "text": [
      "46\n"
     ]
    }
   ],
   "source": [
    "def return_area(xloc, grid, value):\n",
    "    return(np.count_nonzero(grid[xloc].flatten() == value))\n",
    "\n",
    "Values = [-2.0, -1.0, 0, 1.0]\n",
    "print(return_area(1,zone_filled_3d, -1.0))"
   ]
  },
  {
   "cell_type": "code",
   "execution_count": 7,
   "metadata": {
    "scrolled": true
   },
   "outputs": [
    {
     "name": "stdout",
     "output_type": "stream",
     "text": [
      "-0.005082050947365406\n",
      "4.915528954093643\n",
      "-0.0005082050947365406\n",
      "0.07228719050137711\n",
      "-0.005082050947365406\n",
      "4.915528954093643\n"
     ]
    }
   ],
   "source": [
    "def return_averaged_vel(xloc, grid, value):\n",
    "    boundary = np.where(grid[xloc] == value)\n",
    "    x = boundary[0]\n",
    "    y = boundary[1]\n",
    "    if len(x) == 0:\n",
    "        return(0)\n",
    "    else:\n",
    "        #print(vel_mesh[xloc][x,y])\n",
    "        return(np.average(vel_mesh[xloc][x,y]))\n",
    "        \n",
    "\n",
    "def summed_vel(xloc, grid, value):\n",
    "    boundary = np.where(grid[xloc] == value)\n",
    "    x = boundary[0]\n",
    "    y = boundary[1]\n",
    "    if len(x) == 0:\n",
    "        return(0)\n",
    "    else:\n",
    "        #print(vel_mesh[xloc][x,y])\n",
    "        return(np.sum(vel_mesh[xloc][x,y]))\n",
    "\n",
    "xval = 7\n",
    "print(summed_vel(xval, zone_filled_3d, -1.0))\n",
    "print(summed_vel(xval, zone_filled_3d, 1.0))\n",
    "print(return_averaged_vel(xval, zone_filled_3d, -1.0))\n",
    "print(return_averaged_vel(xval, zone_filled_3d, 1.0))\n",
    "print(return_averaged_vel(xval, zone_filled_3d, -1.0)*return_area(xval, zone_filled_3d, -1.0))\n",
    "print(return_averaged_vel(xval, zone_filled_3d, 1.0)*return_area(xval, zone_filled_3d, 1.0))"
   ]
  },
  {
   "cell_type": "code",
   "execution_count": null,
   "metadata": {},
   "outputs": [],
   "source": []
  },
  {
   "cell_type": "code",
   "execution_count": 19,
   "metadata": {},
   "outputs": [
    {
     "name": "stdout",
     "output_type": "stream",
     "text": [
      "0.11192021511763281\n",
      "0.09792723718498292\n",
      "0.063206443233066\n",
      "0.04827127363592244\n",
      "0.050464086415401774\n",
      "0.060281576262182966\n",
      "0.08078883066005263\n",
      "0.07228719050137711\n",
      "0.0891467087269164\n",
      "0.09425664838163662\n"
     ]
    }
   ],
   "source": [
    "for i in xloc:\n",
    "    print(return_averaged_vel(i, zone_filled_3d, 1.0))"
   ]
  },
  {
   "cell_type": "code",
   "execution_count": 9,
   "metadata": {},
   "outputs": [
    {
     "name": "stdout",
     "output_type": "stream",
     "text": [
      "2.29154078018711\n",
      "-0.7357102266978777\n",
      "1.144424184421672\n",
      "-0.24177348749647087\n",
      "1.5575389138189386\n",
      "-0.07127031874281956\n",
      "1.630404646497282\n",
      "-0.006474862154019122\n",
      "1.8114068872697386\n",
      "-0.021235744564098064\n",
      "3.41144094424923\n",
      "-0.005800451470107916\n",
      "4.388799759076757\n",
      "-0.014566108781539746\n",
      "4.030650066345806\n",
      "-0.004610635125331181\n",
      "3.9145124305372647\n",
      "-0.023269260810476405\n",
      "2.0096244054197383\n",
      "-0.7717791370467392\n",
      "[-0.7357102266978777, -0.24177348749647087, -0.07127031874281956, -0.006474862154019122, -0.021235744564098064, -0.005800451470107916, -0.014566108781539746, -0.004610635125331181, -0.023269260810476405, -0.7717791370467392] [2.29154078018711, 1.144424184421672, 1.5575389138189386, 1.630404646497282, 1.8114068872697386, 3.41144094424923, 4.388799759076757, 4.030650066345806, 3.9145124305372647, 2.0096244054197383]\n"
     ]
    }
   ],
   "source": [
    "# Evaluate flowrates using averaged_velocity and area:\n",
    "# flowrates are defined to go from 0 to 1.\n",
    "# V_x direction is from 0 to 1.\n",
    "# hence, flowrate at 0 == flowrate between 0 and 1.\n",
    "\n",
    "xloc = np.arange(0, 10)\n",
    "Gridval = [-1.0,1.0]\n",
    "# -2.0 and 0 not included as flowrates = 0 (velocity = 0)\n",
    "Flowrate_positive = []\n",
    "Flowrate_negative = []\n",
    "\n",
    "for i in xloc:\n",
    "    print(return_averaged_vel(i, zone_filled_3d, 1.0)*return_area(i,zone_filled_3d, 1.0))\n",
    "    Flowrate_positive.append(return_averaged_vel(i, zone_filled_3d, 1.0)*return_area(i,zone_filled_3d, 1.0))\n",
    "    print(return_averaged_vel(i, zone_filled_3d, -1.0)*return_area(i,zone_filled_3d, -1.0))\n",
    "    Flowrate_negative.append(return_averaged_vel(i, zone_filled_3d, -1.0)*return_area(i,zone_filled_3d, -1.0))\n",
    "print(Flowrate_negative, Flowrate_positive)"
   ]
  },
  {
   "cell_type": "code",
   "execution_count": 21,
   "metadata": {},
   "outputs": [
    {
     "name": "stdout",
     "output_type": "stream",
     "text": [
      "[-0.7363881562193858, -0.2418746606320469, -0.07127031874281956, -0.5914200358099602, -1.1709251056839536, -0.18480670293104018, -0.03733201151913201, -0.005082050947365406, -0.023269260810476405, -0.7717791370467392] [5.819851186116906, 4.896361859249146, 4.550863912780752, 3.813430617237873, 3.633414221908928, 4.1594287620906245, 5.251273992903421, 4.915528954093643, 5.705389358522649, 4.712832419081831]\n"
     ]
    }
   ],
   "source": []
  },
  {
   "cell_type": "code",
   "execution_count": 22,
   "metadata": {},
   "outputs": [
    {
     "name": "stdout",
     "output_type": "stream",
     "text": [
      "-3.8341474403429188 47.458375283985774\n"
     ]
    }
   ],
   "source": [
    "print(sum(Flowrate_negative), sum(Flowrate_positive))"
   ]
  },
  {
   "cell_type": "code",
   "execution_count": 23,
   "metadata": {},
   "outputs": [],
   "source": [
    "import xlsxwriter\n",
    "\n",
    "workbook = xlsxwriter.Workbook('axialwork.xlsx')\n",
    "worksheet = workbook.add_worksheet('axial')\n",
    "\n",
    "worksheet.write('A1', 'flowrate_forward')\n",
    "row = 0\n",
    "col = 0\n",
    "for i in Flowrate_positive:\n",
    "    worksheet.write(row + 1, col, i)\n",
    "    row = row + 1\n",
    "    \n",
    "worksheet.write('B1', 'flowrate_back')\n",
    "row = 0\n",
    "col = 1\n",
    "for i in Flowrate_negative:\n",
    "    worksheet.write(row + 1, col, i)\n",
    "    row = row + 1\n",
    "    \n",
    "worksheet.write('C1', 'V_filled')\n",
    "row = 0\n",
    "col = 2\n",
    "for i in V_filled:\n",
    "    worksheet.write(row + 1, col, i)\n",
    "    row = row + 1\n",
    "    \n",
    "workbook.close()"
   ]
  },
  {
   "cell_type": "code",
   "execution_count": null,
   "metadata": {},
   "outputs": [],
   "source": []
  }
 ],
 "metadata": {
  "kernelspec": {
   "display_name": "Python 3",
   "language": "python",
   "name": "python3"
  },
  "language_info": {
   "codemirror_mode": {
    "name": "ipython",
    "version": 3
   },
   "file_extension": ".py",
   "mimetype": "text/x-python",
   "name": "python",
   "nbconvert_exporter": "python",
   "pygments_lexer": "ipython3",
   "version": "3.7.6"
  }
 },
 "nbformat": 4,
 "nbformat_minor": 4
}
